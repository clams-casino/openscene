{
 "cells": [
  {
   "cell_type": "code",
   "execution_count": 1,
   "id": "590571fd",
   "metadata": {},
   "outputs": [
    {
     "name": "stdout",
     "output_type": "stream",
     "text": [
      "Jupyter environment detected. Enabling Open3D WebVisualizer.\n",
      "[Open3D INFO] WebRTC GUI backend enabled.\n",
      "[Open3D INFO] WebRTCWindowSystem: HTTP handshake server disabled.\n"
     ]
    }
   ],
   "source": [
    "import pickle\n",
    "\n",
    "import numpy as np\n",
    "import open3d as o3d\n",
    "\n",
    "import matplotlib.pyplot as plt\n",
    "from matplotlib import cm\n",
    "\n",
    "import ipywidgets as widgets\n",
    "from IPython.display import display"
   ]
  },
  {
   "cell_type": "code",
   "execution_count": 20,
   "id": "1874b3af",
   "metadata": {},
   "outputs": [],
   "source": [
    "from tag_mapping.evaluation import LatticeNavigationGraph\n",
    "from tag_mapping.utils import box_to_linemesh, LineMesh"
   ]
  },
  {
   "cell_type": "code",
   "execution_count": 3,
   "id": "6bb042a1",
   "metadata": {},
   "outputs": [],
   "source": [
    "# for interactive dropdown selection\n",
    "def on_dropdown_change(change):\n",
    "    if change['type'] == 'change' and change['name'] == 'value':\n",
    "        selected_option = change['new']"
   ]
  },
  {
   "cell_type": "markdown",
   "id": "6a297a46",
   "metadata": {},
   "source": [
    "### Load the output of the evaluation"
   ]
  },
  {
   "cell_type": "code",
   "execution_count": 4,
   "id": "4dcb70f1",
   "metadata": {},
   "outputs": [],
   "source": [
    "EVAL_OUTPUT_PATH = '/home/rsl_admin/openscene/comparison_outputs/test_eval_outputs/object/2t7WUuJeko7.pkl'\n",
    "\n",
    "# EVAL_OUTPUT_PATH = '/home/rsl_admin/openscene/comparison_outputs/test_eval_outputs/region/2t7WUuJeko7.pkl'\n"
   ]
  },
  {
   "cell_type": "code",
   "execution_count": 5,
   "id": "99ab8d90",
   "metadata": {},
   "outputs": [],
   "source": [
    "with open(EVAL_OUTPUT_PATH, 'rb') as f:\n",
    "    eval_output = pickle.load(f)"
   ]
  },
  {
   "cell_type": "markdown",
   "id": "aed4556b",
   "metadata": {},
   "source": [
    "Load and visualize the mesh"
   ]
  },
  {
   "cell_type": "code",
   "execution_count": 6,
   "id": "842a0fc2",
   "metadata": {},
   "outputs": [],
   "source": [
    "scene_mesh = o3d.io.read_triangle_mesh(eval_output[\"ply_file_path\"])"
   ]
  },
  {
   "cell_type": "code",
   "execution_count": 7,
   "id": "19141a1c",
   "metadata": {},
   "outputs": [],
   "source": [
    "o3d.visualization.draw_geometries([scene_mesh])"
   ]
  },
  {
   "cell_type": "markdown",
   "id": "8e7f9b44",
   "metadata": {},
   "source": [
    "Load lattice graph"
   ]
  },
  {
   "cell_type": "code",
   "execution_count": 8,
   "id": "92a290fd",
   "metadata": {},
   "outputs": [],
   "source": [
    "lattice_graph = LatticeNavigationGraph.load(eval_output[\"lattice_graph_path\"])"
   ]
  },
  {
   "cell_type": "markdown",
   "id": "f0068d0c",
   "metadata": {},
   "source": [
    "Load other outputs"
   ]
  },
  {
   "cell_type": "code",
   "execution_count": 9,
   "id": "6567d290",
   "metadata": {},
   "outputs": [],
   "source": [
    "label_gt_boxes = eval_output[\"label_gt_boxes\"]\n",
    "label_lattice_inds = eval_output[\"label_lattice_inds\"]\n",
    "\n",
    "label_proposals = eval_output[\"label_proposals\"]"
   ]
  },
  {
   "cell_type": "markdown",
   "id": "1c7cba7f",
   "metadata": {},
   "source": [
    "Evaluation output stores box corners instead of the axis-aligned bounding box object as it's not pickleable, create the boxes again here"
   ]
  },
  {
   "cell_type": "code",
   "execution_count": 10,
   "id": "6a44ba69",
   "metadata": {},
   "outputs": [],
   "source": [
    "for label, proposals in label_proposals.items():\n",
    "    proposals[\"boxes\"] = []\n",
    "    for box_corners in proposals[\"boxes_corners\"]:\n",
    "        min_bound = np.min(box_corners, axis=0)\n",
    "        max_bound = np.max(box_corners, axis=0)\n",
    "        proposals[\"boxes\"].append(\n",
    "            o3d.geometry.AxisAlignedBoundingBox(min_bound, max_bound)\n",
    "        )"
   ]
  },
  {
   "cell_type": "markdown",
   "id": "17025612",
   "metadata": {},
   "source": [
    "### Visualize labels and proposals"
   ]
  },
  {
   "cell_type": "code",
   "execution_count": 11,
   "id": "65b5f596",
   "metadata": {},
   "outputs": [
    {
     "data": {
      "application/vnd.jupyter.widget-view+json": {
       "model_id": "14e703c302664fa0aeb4844b10917a6c",
       "version_major": 2,
       "version_minor": 0
      },
      "text/plain": [
       "Dropdown(options=('bathtub', 'bed', 'cabinet', 'chair', 'chest_of_drawers', 'clothes', 'counter', 'cushion', '…"
      ]
     },
     "metadata": {},
     "output_type": "display_data"
    }
   ],
   "source": [
    "select_mpcat40_label_dropdown = widgets.Dropdown(\n",
    "    options=sorted(label_proposals.keys()),\n",
    "    description='',\n",
    "    disabled=False,\n",
    ")\n",
    "display(select_mpcat40_label_dropdown)"
   ]
  },
  {
   "cell_type": "code",
   "execution_count": 12,
   "id": "2c04df8c",
   "metadata": {},
   "outputs": [
    {
     "data": {
      "application/vnd.jupyter.widget-view+json": {
       "model_id": "7d235c83128947008efd612b94c42970",
       "version_major": 2,
       "version_minor": 0
      },
      "text/plain": [
       "Dropdown(options=('all', 'n/a'), value='all')"
      ]
     },
     "metadata": {},
     "output_type": "display_data"
    }
   ],
   "source": [
    "selected_label = select_mpcat40_label_dropdown.value\n",
    "tag_options = list(set(label_proposals[selected_label][\"tags\"]))\n",
    "\n",
    "select_tag_dropdown = widgets.Dropdown(\n",
    "    options=['all'] + sorted(tag_options),\n",
    "    description='',\n",
    "    disabled=False,\n",
    ")\n",
    "display(select_tag_dropdown)"
   ]
  },
  {
   "cell_type": "code",
   "execution_count": 15,
   "id": "cfe971a1",
   "metadata": {},
   "outputs": [
    {
     "name": "stderr",
     "output_type": "stream",
     "text": [
      "/home/rsl_admin/ram/map_anything/tag_mapping/tag_mapping/utils/line_mesh.py:21: RuntimeWarning: invalid value encountered in divide\n",
      "  axis_ = axis_ / np.linalg.norm(axis_)\n"
     ]
    }
   ],
   "source": [
    "label_boxes = label_gt_boxes[selected_label]\n",
    "\n",
    "selected_tag = select_tag_dropdown.value\n",
    "proposals = label_proposals[selected_label]\n",
    "\n",
    "\n",
    "if len(proposals['boxes']) == 0:\n",
    "    raise Exception(\"label has no associated proposals\")\n",
    "\n",
    "\n",
    "if selected_tag == 'all':\n",
    "    selected_boxes = proposals[\"boxes\"]\n",
    "    selected_box_confidences = proposals[\"confidences\"]\n",
    "else:\n",
    "    selected_boxes = [\n",
    "        box for i, box in enumerate(proposals[\"boxes\"]) if proposals[\"tags\"][i] == selected_tag\n",
    "    ]\n",
    "    selected_box_confidences = [\n",
    "        conf for i, conf in enumerate(proposals[\"confidences\"]) if proposals[\"tags\"][i] == selected_tag\n",
    "    ]\n",
    "\n",
    "max_conf = np.max(selected_box_confidences)\n",
    "\n",
    "viz_selected_boxes_linemeshes = []\n",
    "for box, conf in zip(selected_boxes, selected_box_confidences):\n",
    "    color = cm.viridis(conf/max_conf)[:3]\n",
    "    viz_selected_boxes_linemeshes += box_to_linemesh(\n",
    "        box, \n",
    "        color=color, \n",
    "        radius=0.02\n",
    "    ).cylinder_segments\n",
    "\n",
    "    \n",
    "label_boxes_linemeshes = []\n",
    "for box in label_boxes:\n",
    "    label_boxes_linemeshes += box_to_linemesh(\n",
    "        box, \n",
    "        color=(0,1,0), \n",
    "        radius=0.02\n",
    "    ).cylinder_segments\n",
    "    "
   ]
  },
  {
   "cell_type": "code",
   "execution_count": 16,
   "id": "4fe3fe07",
   "metadata": {},
   "outputs": [],
   "source": [
    "o3d.visualization.draw_geometries(\n",
    "    [scene_mesh] + \\\n",
    "    label_boxes_linemeshes + \\\n",
    "    viz_selected_boxes_linemeshes\n",
    ")"
   ]
  },
  {
   "cell_type": "markdown",
   "id": "e2c90063",
   "metadata": {},
   "source": [
    "### Visualize the shortest paths for the proposals"
   ]
  },
  {
   "cell_type": "code",
   "execution_count": 17,
   "id": "66c73339",
   "metadata": {},
   "outputs": [
    {
     "data": {
      "application/vnd.jupyter.widget-view+json": {
       "model_id": "c573f91b8bcb42b49f5159925f946786",
       "version_major": 2,
       "version_minor": 0
      },
      "text/plain": [
       "Dropdown(options=('bathtub', 'bed', 'cabinet', 'chair', 'chest_of_drawers', 'clothes', 'counter', 'cushion', '…"
      ]
     },
     "metadata": {},
     "output_type": "display_data"
    }
   ],
   "source": [
    "select_mpcat40_label_dropdown = widgets.Dropdown(\n",
    "    options=sorted(label_proposals.keys()),\n",
    "    description='',\n",
    "    disabled=False,\n",
    ")\n",
    "display(select_mpcat40_label_dropdown)"
   ]
  },
  {
   "cell_type": "code",
   "execution_count": 22,
   "id": "120e6e30",
   "metadata": {},
   "outputs": [
    {
     "data": {
      "application/vnd.jupyter.widget-view+json": {
       "model_id": "1a020678b5fd4b0fbb080613b0481652",
       "version_major": 2,
       "version_minor": 0
      },
      "text/plain": [
       "Dropdown(options=('0 | mean spl: 11.00 | confidence: 1.0', '1 | mean spl: 9.00 | confidence: 1.0', '2 | mean s…"
      ]
     },
     "metadata": {},
     "output_type": "display_data"
    }
   ],
   "source": [
    "selected_label = select_mpcat40_label_dropdown.value\n",
    "proposals = label_proposals[selected_label]\n",
    "\n",
    "proposals_metrics = proposals['metrics']\n",
    "proposals_confidences = proposals['confidences']\n",
    "\n",
    "proposals_mean_spl = [metrics['mean_spl'] for metrics in proposals_metrics]\n",
    "\n",
    "select_proposal_options = []\n",
    "for i, (mean_spl, conf) in enumerate(zip(proposals_mean_spl, proposals_confidences)):\n",
    "    option = f\"{i} | mean spl: {mean_spl:.2f} | confidence: {conf}\"\n",
    "    select_proposal_options.append(option)\n",
    "\n",
    "select_proposal_dropdown = widgets.Dropdown(\n",
    "    options=select_proposal_options,\n",
    "    description='',\n",
    "    disabled=False,\n",
    ")\n",
    "display(select_proposal_dropdown)"
   ]
  },
  {
   "cell_type": "code",
   "execution_count": 27,
   "id": "c89d8c90",
   "metadata": {},
   "outputs": [
    {
     "name": "stdout",
     "output_type": "stream",
     "text": [
      "selected proposal index: 5\n",
      "\u001b[1;33m[Open3D WARNING] The number of points is 0 when creating axis-aligned bounding box.\u001b[0;m\n"
     ]
    }
   ],
   "source": [
    "if len(proposals[\"boxes\"]) == 0:\n",
    "    raise Exception(\"label has no associated proposals\")\n",
    "    \n",
    "\n",
    "selected_proposal_index = int(select_proposal_dropdown.value.split(' | ')[0])\n",
    "print(f\"selected proposal index: {selected_proposal_index}\")\n",
    "\n",
    "proposal_box = proposals[\"boxes\"][selected_proposal_index]\n",
    "proposal_box_linemesh = box_to_linemesh(\n",
    "    proposal_box,\n",
    "    color=(0,0,1),\n",
    "    radius=0.02,\n",
    ").cylinder_segments\n",
    "\n",
    "proposal_node_inds = proposals[\"lattice_inds\"][selected_proposal_index]\n",
    "proposal_nodes_pcd = lattice_graph.o3d_nodes_pointcloud.select_by_index(proposal_node_inds)\n",
    "proposal_nodes_pcd = proposal_nodes_pcd.paint_uniform_color((0,0,1))\n",
    "\n",
    "label_boxes = label_gt_boxes[selected_label]\n",
    "label_boxes_linemeshes = []\n",
    "for box in label_boxes:\n",
    "    label_boxes_linemeshes += box_to_linemesh(\n",
    "        box, \n",
    "        color=(0,1,0), \n",
    "        radius=0.02\n",
    "    ).cylinder_segments\n",
    "\n",
    "label_node_inds = set()\n",
    "for node_inds in label_lattice_inds[selected_label]:\n",
    "        label_node_inds.update(node_inds)\n",
    "label_node_inds = list(label_node_inds)\n",
    "label_nodes_pcd = lattice_graph.o3d_nodes_pointcloud.select_by_index(label_node_inds)\n",
    "label_nodes_pcd = label_nodes_pcd.paint_uniform_color((0,1,0))\n",
    "\n",
    "\n",
    "shortest_path_linemeshes = []\n",
    "for p_ind in proposal_node_inds:\n",
    "    spl = np.inf\n",
    "    matched_l_ind = None\n",
    "    for l_ind in label_node_inds:\n",
    "        \n",
    "        new_spl = lattice_graph.shortest_path_length(p_ind, l_ind)\n",
    "        if new_spl == None:\n",
    "            continue\n",
    "        \n",
    "        if new_spl < spl:\n",
    "            spl = new_spl\n",
    "            matched_l_ind = l_ind\n",
    "            \n",
    "    if matched_l_ind != None:\n",
    "        sp_inds = lattice_graph.shortest_path(p_ind, matched_l_ind)\n",
    "        \n",
    "        sp_lines = np.zeros((len(sp_inds)-1, 2)).astype(np.int32)\n",
    "        sp_lines[:,0] = np.arange(len(sp_inds)-1)\n",
    "        sp_lines[:,1] = 1 + np.arange(len(sp_inds)-1)\n",
    "        \n",
    "        sp_linemesh = LineMesh(\n",
    "            points=lattice_graph.nodes_xyz[sp_inds],\n",
    "            lines=sp_lines,\n",
    "            colors=(0,1,1),\n",
    "            radius=0.01,\n",
    "        )\n",
    "        \n",
    "        shortest_path_linemeshes += sp_linemesh.cylinder_segments\n",
    "\n",
    "        \n",
    "o3d.visualization.draw_geometries(\n",
    "    [scene_mesh] + \\\n",
    "    proposal_box_linemesh + \\\n",
    "    [proposal_nodes_pcd] + \\\n",
    "    label_boxes_linemeshes + \\\n",
    "    [label_nodes_pcd] + \\\n",
    "    shortest_path_linemeshes\n",
    ")"
   ]
  },
  {
   "cell_type": "code",
   "execution_count": null,
   "id": "be4f26ab",
   "metadata": {},
   "outputs": [],
   "source": []
  },
  {
   "cell_type": "code",
   "execution_count": null,
   "id": "f02430e4",
   "metadata": {},
   "outputs": [],
   "source": []
  }
 ],
 "metadata": {
  "kernelspec": {
   "display_name": "Python 3 (ipykernel)",
   "language": "python",
   "name": "python3"
  },
  "language_info": {
   "codemirror_mode": {
    "name": "ipython",
    "version": 3
   },
   "file_extension": ".py",
   "mimetype": "text/x-python",
   "name": "python",
   "nbconvert_exporter": "python",
   "pygments_lexer": "ipython3",
   "version": "3.8.10"
  }
 },
 "nbformat": 4,
 "nbformat_minor": 5
}
