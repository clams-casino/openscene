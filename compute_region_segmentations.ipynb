{
 "cells": [
  {
   "cell_type": "code",
   "execution_count": 1,
   "id": "0ae9dfed-ec6f-4205-9431-5bbeb26a0d41",
   "metadata": {
    "tags": []
   },
   "outputs": [
    {
     "name": "stdout",
     "output_type": "stream",
     "text": [
      "Jupyter environment detected. Enabling Open3D WebVisualizer.\n",
      "[Open3D INFO] WebRTC GUI backend enabled.\n",
      "[Open3D INFO] WebRTCWindowSystem: HTTP handshake server disabled.\n"
     ]
    },
    {
     "name": "stderr",
     "output_type": "stream",
     "text": [
      "/tmp/ipykernel_838641/1176535136.py:12: MatplotlibDeprecationWarning: The get_cmap function was deprecated in Matplotlib 3.7 and will be removed two minor releases later. Use ``matplotlib.colormaps[name]`` or ``matplotlib.colormaps.get_cmap(obj)`` instead.\n",
      "  cmap = cm.get_cmap('jet')\n"
     ]
    }
   ],
   "source": [
    "import os\n",
    "\n",
    "import pickle\n",
    "\n",
    "import numpy as np\n",
    "import torch\n",
    "\n",
    "import open3d as o3d\n",
    "\n",
    "import matplotlib.pyplot as plt\n",
    "import matplotlib.cm as cm\n",
    "cmap = cm.get_cmap('jet')\n",
    "\n",
    "from tqdm.notebook import tqdm"
   ]
  },
  {
   "cell_type": "code",
   "execution_count": 2,
   "id": "b22c4c95",
   "metadata": {},
   "outputs": [],
   "source": [
    "import ipywidgets as widgets\n",
    "from IPython.display import display"
   ]
  },
  {
   "cell_type": "code",
   "execution_count": 3,
   "id": "69ed6ce2",
   "metadata": {},
   "outputs": [],
   "source": [
    "PREPROCESSED_3D_DIR = \"/home/rsl_admin/openscene/openscene/data/matterport_3d/test\"\n",
    "\n",
    "FUSED_FEATURES_DIR = \"/media/rsl_admin/T7/openscene_fused_features/matterport_multiview_openseg_test\"\n",
    "\n",
    "OUTPUT_DIR = \"/home/rsl_admin/openscene/comparison_outputs/segmentations\""
   ]
  },
  {
   "cell_type": "code",
   "execution_count": 4,
   "id": "5aef85d1",
   "metadata": {},
   "outputs": [
    {
     "name": "stdout",
     "output_type": "stream",
     "text": [
      "embedding space: openseg\n",
      "split: test\n"
     ]
    }
   ],
   "source": [
    "if \"openseg\" in FUSED_FEATURES_DIR:\n",
    "    embedding_space = 'openseg'\n",
    "else:\n",
    "    raise Exception(\"cannot determine the embedding space\")\n",
    "    \n",
    "split = os.path.basename(PREPROCESSED_3D_DIR)\n",
    "\n",
    "print(f\"embedding space: {embedding_space}\\nsplit: {split}\")"
   ]
  },
  {
   "cell_type": "code",
   "execution_count": 5,
   "id": "6b917650",
   "metadata": {},
   "outputs": [
    {
     "name": "stdout",
     "output_type": "stream",
     "text": [
      "saving to: /home/rsl_admin/openscene/comparison_outputs/segmentations/openseg-matterport-test\n"
     ]
    }
   ],
   "source": [
    "save_dirname = f\"{embedding_space}-matterport-{split}\"\n",
    "\n",
    "os.makedirs(\n",
    "    os.path.join(OUTPUT_DIR, save_dirname),\n",
    "    exist_ok=True\n",
    ")\n",
    "\n",
    "print(f\"saving to: {os.path.join(OUTPUT_DIR, save_dirname)}\")"
   ]
  },
  {
   "cell_type": "markdown",
   "id": "213b1032",
   "metadata": {},
   "source": [
    "##\n",
    "First check that every 3D region has fused features for that region"
   ]
  },
  {
   "cell_type": "code",
   "execution_count": 6,
   "id": "fda36a99",
   "metadata": {},
   "outputs": [],
   "source": [
    "import re"
   ]
  },
  {
   "cell_type": "code",
   "execution_count": 7,
   "id": "c1c418d7",
   "metadata": {},
   "outputs": [],
   "source": [
    "data_3d_fnames = os.listdir(PREPROCESSED_3D_DIR)\n",
    "fused_feats_fnames = []\n",
    "\n",
    "for fname in data_3d_fnames:\n",
    "    scan_name = fname.split(\"_\")[0]\n",
    "    \n",
    "    match = re.search(\n",
    "        r'_region(\\d+)\\.pth', \n",
    "        fname\n",
    "    )\n",
    "    if match:\n",
    "        region_number = match.group(1)\n",
    "    else:\n",
    "        raise RuntimeError(f\"No region number for file {fname}\")\n",
    "\n",
    "    fused_feats_fname = f\"{scan_name}_region{region_number}_0.pt\"\n",
    "    \n",
    "    if not os.path.isfile(\n",
    "        os.path.join(FUSED_FEATURES_DIR, fused_feats_fname)\n",
    "    ):\n",
    "        raise Exception(f\"3D data file {fname} has no corresponding fused feature file {fused_feats_fname}\")\n",
    "                        \n",
    "    fused_feats_fnames.append(fused_feats_fname)"
   ]
  },
  {
   "cell_type": "code",
   "execution_count": 8,
   "id": "8b547827",
   "metadata": {},
   "outputs": [],
   "source": [
    "# for x, y in zip(data_3d_fnames, fused_feats_fnames):\n",
    "#     print(f\"{x} - {y}\")"
   ]
  },
  {
   "cell_type": "markdown",
   "id": "ff066691",
   "metadata": {},
   "source": [
    "## Setup 3D model"
   ]
  },
  {
   "cell_type": "code",
   "execution_count": 9,
   "id": "0e0e277e",
   "metadata": {},
   "outputs": [],
   "source": [
    "'''simple config class to recreate what's done in the openscene code'''\n",
    "class ModelConfig:\n",
    "    def __init__(self, feature_2d_extractor, arch_3d):\n",
    "        self.feature_2d_extractor = feature_2d_extractor\n",
    "        self.arch_3d = arch_3d"
   ]
  },
  {
   "cell_type": "code",
   "execution_count": 10,
   "id": "f6f6f3ff",
   "metadata": {},
   "outputs": [],
   "source": [
    "if embedding_space == \"openseg\":\n",
    "    checkpoint_path = \"/home/rsl_admin/openscene/checkpoints/matterport_openseg.pth\"\n",
    "else:\n",
    "    raise NotImplementedError\n",
    "\n",
    "checkpoint = torch.load(checkpoint_path, map_location=lambda storage, loc: storage.cuda())"
   ]
  },
  {
   "cell_type": "code",
   "execution_count": 11,
   "id": "676dc1c8",
   "metadata": {},
   "outputs": [],
   "source": [
    "from run.distill import get_model\n",
    "\n",
    "model_cfg = ModelConfig(\n",
    "    feature_2d_extractor=embedding_space, \n",
    "    arch_3d='MinkUNet18A',\n",
    ")\n",
    "model = get_model(model_cfg)\n",
    "model.load_state_dict(checkpoint['state_dict'], strict=True)\n",
    "\n",
    "model = model.cuda()"
   ]
  },
  {
   "cell_type": "code",
   "execution_count": 12,
   "id": "42b32b1f",
   "metadata": {},
   "outputs": [],
   "source": [
    "from comparison_utils import DisNetRunner"
   ]
  },
  {
   "cell_type": "code",
   "execution_count": 13,
   "id": "1db90985",
   "metadata": {},
   "outputs": [],
   "source": [
    "disnet_runner = DisNetRunner(model)"
   ]
  },
  {
   "cell_type": "markdown",
   "id": "2a7f0d31",
   "metadata": {},
   "source": [
    "### Set up class vocabulary\n",
    "This step requires the user to select a label set to query the segmentations on"
   ]
  },
  {
   "cell_type": "code",
   "execution_count": 14,
   "id": "2b2a8ba6",
   "metadata": {},
   "outputs": [
    {
     "data": {
      "application/vnd.jupyter.widget-view+json": {
       "model_id": "824a387a3f344b0482f1561c57801205",
       "version_major": 2,
       "version_minor": 0
      },
      "text/plain": [
       "Dropdown(options=('MATTERPORT_LABELS_21', 'MATTERPORT_LABELS_REGIONS'), value='MATTERPORT_LABELS_21')"
      ]
     },
     "metadata": {},
     "output_type": "display_data"
    }
   ],
   "source": [
    "labelset_selection_dropdown  = widgets.Dropdown(\n",
    "    options=[\n",
    "        \"MATTERPORT_LABELS_21\",\n",
    "        \"MATTERPORT_LABELS_REGIONS\",\n",
    "    ],\n",
    "    disabled=False,\n",
    ")\n",
    "\n",
    "display(labelset_selection_dropdown)"
   ]
  },
  {
   "cell_type": "code",
   "execution_count": 15,
   "id": "0af500dd",
   "metadata": {},
   "outputs": [],
   "source": [
    "if labelset_selection_dropdown.value == \"MATTERPORT_LABELS_21\":\n",
    "    from dataset.label_constants import MATTERPORT_LABELS_21\n",
    "    labelset = list(MATTERPORT_LABELS_21)\n",
    "    use_prompt_eng = True\n",
    "\n",
    "elif labelset_selection_dropdown.value == \"MATTERPORT_LABELS_REGIONS\":\n",
    "    from dataset.label_constants import MATTERPORT_LABELS_REGIONS\n",
    "    labelset = list(MATTERPORT_LABELS_REGIONS)\n",
    "    \n",
    "    # Not sure if should use prompt engineering for regions or not, \n",
    "    # maybe run with and without and see which one is better?\n",
    "    use_prompt_eng = True\n",
    "\n",
    "else: \n",
    "    raise Exception\n"
   ]
  },
  {
   "cell_type": "code",
   "execution_count": 16,
   "id": "3d8738f6",
   "metadata": {},
   "outputs": [
    {
     "name": "stdout",
     "output_type": "stream",
     "text": [
      "{'bathroom': 0, 'bedroom': 1, 'closet': 2, 'dining room': 3, 'garage': 4, 'hallway': 5, 'library': 6, 'laundry room or mudroom': 7, 'kitchen': 8, 'living room': 9, 'meeting room or conference room': 10, 'office': 11, 'porch or terrace or deck or driveway': 12, 'rec/game': 13, 'stairs': 14, 'utility room or tool room': 15, 'cinema or home theater or theater\"': 16, 'gym': 17, 'balcony': 18, 'bar': 19, 'classroom': 20, 'spa or sauna': 21, 'other room': 22, 'junk': 23, 'no label': 24, 'dining booth': 25, 'entryway/foyer/lobby': 26, 'outdoor': 27}\n"
     ]
    }
   ],
   "source": [
    "label_to_ind = {label: i for i, label in enumerate(labelset)}\n",
    "\n",
    "print(label_to_ind)"
   ]
  },
  {
   "cell_type": "code",
   "execution_count": 17,
   "id": "1f84b126",
   "metadata": {},
   "outputs": [],
   "source": [
    "from comparison_utils import extract_text_feature"
   ]
  },
  {
   "cell_type": "code",
   "execution_count": 18,
   "id": "b924855d",
   "metadata": {},
   "outputs": [
    {
     "name": "stdout",
     "output_type": "stream",
     "text": [
      "Use prompt engineering: a XX in a scene\n",
      "Loading CLIP ViT-L/14@336px model...\n",
      "Finish loading\n",
      "torch.Size([28, 768])\n"
     ]
    }
   ],
   "source": [
    "label_feats = extract_text_feature(\n",
    "    labelset,\n",
    "    prompt_eng=use_prompt_eng\n",
    ")\n",
    "\n",
    "print(label_feats.shape)"
   ]
  },
  {
   "cell_type": "code",
   "execution_count": 19,
   "id": "e2b1dc4a",
   "metadata": {},
   "outputs": [],
   "source": [
    "from comparison_utils import get_region_features, compute_predictions"
   ]
  },
  {
   "cell_type": "code",
   "execution_count": 20,
   "id": "632ea516",
   "metadata": {},
   "outputs": [
    {
     "data": {
      "application/vnd.jupyter.widget-view+json": {
       "model_id": "6ee2d1cf8ac043d2b299f44f63219c03",
       "version_major": 2,
       "version_minor": 0
      },
      "text/plain": [
       "  0%|          | 0/406 [00:00<?, ?it/s]"
      ]
     },
     "metadata": {},
     "output_type": "display_data"
    }
   ],
   "source": [
    "for data_3d_fname, fused_feats_fname in tqdm(\n",
    "    zip(data_3d_fnames, fused_feats_fnames), total=len(data_3d_fnames)\n",
    "):\n",
    "    \n",
    "#     print(data_3d_fname)\n",
    "#     print(fused_feats_fname)\n",
    "    \n",
    "    points, colors, fused_feats, distill_feats = get_region_features(\n",
    "        os.path.join(PREPROCESSED_3D_DIR, data_3d_fname),\n",
    "        os.path.join(FUSED_FEATURES_DIR, fused_feats_fname),\n",
    "        disnet_runner,\n",
    "    )\n",
    "    \n",
    "    preds = compute_predictions(\n",
    "        label_feats,\n",
    "        fused_feats,\n",
    "        distill_feats,\n",
    "        method=\"ensemble\"\n",
    "    )\n",
    "    \n",
    "    out = {\n",
    "        \"points\": points.astype(np.float16),\n",
    "        \"colors\": colors.astype(np.float16),\n",
    "        \"preds\": preds.astype(np.int16),\n",
    "        \"label_to_ind\": label_to_ind,\n",
    "    }\n",
    "    \n",
    "    save_path = os.path.join(\n",
    "        os.path.join(OUTPUT_DIR, save_dirname, data_3d_fname.replace('.pth', '.pkl')),\n",
    "    )\n",
    "    \n",
    "    with open(save_path, 'wb') as f:\n",
    "        pickle.dump(out, f)"
   ]
  },
  {
   "cell_type": "markdown",
   "id": "efd87396",
   "metadata": {},
   "source": [
    "## Visualize an output segmentation"
   ]
  },
  {
   "cell_type": "code",
   "execution_count": 21,
   "id": "97945f5f",
   "metadata": {},
   "outputs": [],
   "source": [
    "MATTERPORT_DIR = \"/media/rsl_admin/T7/matterport/data/v1/scans\""
   ]
  },
  {
   "cell_type": "code",
   "execution_count": 22,
   "id": "cf6de0ca",
   "metadata": {},
   "outputs": [],
   "source": [
    "np.random.seed(0)"
   ]
  },
  {
   "cell_type": "code",
   "execution_count": 23,
   "id": "d89d8563",
   "metadata": {},
   "outputs": [
    {
     "name": "stdout",
     "output_type": "stream",
     "text": [
      "loaded 2t7WUuJeko7_region0.pkl\n"
     ]
    }
   ],
   "source": [
    "# output_fname = np.random.choice(\n",
    "#     os.listdir(os.path.join(OUTPUT_DIR, save_dirname))\n",
    "# )\n",
    "\n",
    "output_fname = \"2t7WUuJeko7_region0.pkl\"\n",
    "\n",
    "output_path = os.path.join(OUTPUT_DIR, save_dirname, output_fname)\n",
    "\n",
    "with open(output_path, 'rb') as f:\n",
    "    out = pickle.load(f)\n",
    "    \n",
    "print(f\"loaded {output_fname}\")"
   ]
  },
  {
   "cell_type": "code",
   "execution_count": 24,
   "id": "97d201eb",
   "metadata": {},
   "outputs": [],
   "source": [
    "scan_name = output_fname.split('_')[0]\n",
    "\n",
    "scan_mesh = o3d.io.read_triangle_mesh(\n",
    "    os.path.join(MATTERPORT_DIR, f\"{scan_name}/{scan_name}/house_segmentations/{scan_name}.ply\")\n",
    ")"
   ]
  },
  {
   "cell_type": "code",
   "execution_count": 25,
   "id": "3a90c472",
   "metadata": {},
   "outputs": [],
   "source": [
    "pcd = o3d.geometry.PointCloud()\n",
    "pcd.points = o3d.utility.Vector3dVector(out[\"points\"])\n",
    "pcd.colors = o3d.utility.Vector3dVector(out[\"colors\"])"
   ]
  },
  {
   "cell_type": "code",
   "execution_count": 26,
   "id": "e85fa8c3",
   "metadata": {},
   "outputs": [],
   "source": [
    "label_to_ind = out[\"label_to_ind\"]\n",
    "labels = label_to_ind.keys()"
   ]
  },
  {
   "cell_type": "code",
   "execution_count": 27,
   "id": "4ec9f846",
   "metadata": {},
   "outputs": [
    {
     "name": "stdout",
     "output_type": "stream",
     "text": [
      "dict_keys(['bathroom', 'bedroom', 'closet', 'dining room', 'garage', 'hallway', 'library', 'laundry room or mudroom', 'kitchen', 'living room', 'meeting room or conference room', 'office', 'porch or terrace or deck or driveway', 'rec/game', 'stairs', 'utility room or tool room', 'cinema or home theater or theater\"', 'gym', 'balcony', 'bar', 'classroom', 'spa or sauna', 'other room', 'junk', 'no label', 'dining booth', 'entryway/foyer/lobby', 'outdoor'])\n"
     ]
    }
   ],
   "source": [
    "print(labels)"
   ]
  },
  {
   "cell_type": "code",
   "execution_count": 28,
   "id": "a8526197",
   "metadata": {},
   "outputs": [
    {
     "data": {
      "application/vnd.jupyter.widget-view+json": {
       "model_id": "4da45482f05240908ec2acb0949ea01e",
       "version_major": 2,
       "version_minor": 0
      },
      "text/plain": [
       "Dropdown(options=('all', 'balcony', 'bar', 'bathroom', 'bedroom', 'cinema or home theater or theater\"', 'class…"
      ]
     },
     "metadata": {},
     "output_type": "display_data"
    }
   ],
   "source": [
    "label_dropdown = widgets.Dropdown(\n",
    "    options=['all'] + sorted(labels),\n",
    "    disabled=False,\n",
    ")\n",
    "\n",
    "display(label_dropdown)"
   ]
  },
  {
   "cell_type": "code",
   "execution_count": 39,
   "id": "27ba0fdf",
   "metadata": {},
   "outputs": [],
   "source": [
    "label_inds = np.where(out[\"preds\"] == label_to_ind[label_dropdown.value])[0]\n",
    "\n",
    "o3d.visualization.draw_geometries(\n",
    "    [\n",
    "        scan_mesh, \n",
    "        pcd.select_by_index(label_inds).paint_uniform_color((0,1,0))\n",
    "    ]\n",
    ")"
   ]
  },
  {
   "cell_type": "code",
   "execution_count": null,
   "id": "d9643a7a",
   "metadata": {},
   "outputs": [],
   "source": []
  }
 ],
 "metadata": {
  "kernelspec": {
   "display_name": "Python 3 (ipykernel)",
   "language": "python",
   "name": "python3"
  },
  "language_info": {
   "codemirror_mode": {
    "name": "ipython",
    "version": 3
   },
   "file_extension": ".py",
   "mimetype": "text/x-python",
   "name": "python",
   "nbconvert_exporter": "python",
   "pygments_lexer": "ipython3",
   "version": "3.8.10"
  }
 },
 "nbformat": 4,
 "nbformat_minor": 5
}
