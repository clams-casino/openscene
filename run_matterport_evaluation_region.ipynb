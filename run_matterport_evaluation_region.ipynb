{
 "cells": [
  {
   "cell_type": "code",
   "execution_count": null,
   "id": "06702e86",
   "metadata": {},
   "outputs": [],
   "source": [
    "import os\n",
    "import json\n",
    "from datetime import datetime"
   ]
  },
  {
   "cell_type": "markdown",
   "id": "7202c465",
   "metadata": {},
   "source": [
    "## Define input and output filepaths"
   ]
  },
  {
   "cell_type": "code",
   "execution_count": null,
   "id": "0c9300e5",
   "metadata": {},
   "outputs": [],
   "source": [
    "MATTERPORT_DIR = \"/media/rsl_admin/T7/matterport/data/v1/scans\"\n",
    "\n",
    "LATTICE_GRAPHS_DIR = \"/media/rsl_admin/T7/matterport/lattice_graphs\""
   ]
  },
  {
   "cell_type": "code",
   "execution_count": null,
   "id": "0a2a27a0",
   "metadata": {},
   "outputs": [],
   "source": [
    "OPENSCENE_REGION_SEGS_DIR = \\\n",
    "    \"/home/rsl_admin/openscene/comparison_outputs/segmentations/region-openseg-matterport-test/\"\n"
   ]
  },
  {
   "cell_type": "code",
   "execution_count": null,
   "id": "a9d7e755",
   "metadata": {},
   "outputs": [],
   "source": [
    "OUTPUT_DIR = \"/home/rsl_admin/openscene/comparison_outputs/eval_outputs\"\n",
    "\n",
    "save_dir = os.path.join(OUTPUT_DIR, f\"region-{datetime.now().strftime('%Y-%m-%d_%H-%M')}\")\n",
    "os.makedirs(save_dir, exist_ok=True)\n",
    "\n",
    "print(f\"saving outputs to: {save_dir}\")"
   ]
  },
  {
   "cell_type": "markdown",
   "id": "45016389",
   "metadata": {},
   "source": [
    "## Figure out which scans to process"
   ]
  },
  {
   "cell_type": "code",
   "execution_count": null,
   "id": "a1cc4db5",
   "metadata": {},
   "outputs": [],
   "source": [
    "scans = set()\n",
    "for fname in os.listdir(OPENSCENE_REGION_SEGS_DIR):\n",
    "    scans.add(fname.split(\"_\")[0])\n",
    "    \n",
    "scans = tuple(sorted(scans))\n",
    "\n",
    "print(scans)"
   ]
  },
  {
   "cell_type": "markdown",
   "id": "a5ceb3f6",
   "metadata": {},
   "source": [
    "## Evaluation parameters"
   ]
  },
  {
   "cell_type": "code",
   "execution_count": null,
   "id": "5771d0a7",
   "metadata": {},
   "outputs": [],
   "source": [
    "BLACKLISTED_REGION_LABELS = (\n",
    "    \"other room\",\n",
    "\n",
    "    # no appropriate tag\n",
    "    \"dining booth\",\n",
    "    \"entryway/foyer/lobby\",\n",
    "    \"outdoor\",\n",
    ")"
   ]
  },
  {
   "cell_type": "code",
   "execution_count": null,
   "id": "cdb044a2",
   "metadata": {},
   "outputs": [],
   "source": [
    "params = {\n",
    "        \"label_params\": {\n",
    "            \"blacklisted_labels\": BLACKLISTED_REGION_LABELS,\n",
    "        },\n",
    "    \n",
    "        # Make sure sides of proposal boxes are at least this long\n",
    "        \"min_proposal_box_length\": 0.1,\n",
    "    \n",
    "    \n",
    "        # From email with the author of OVIR\n",
    "        \"cluster_min_points\": 50,\n",
    "\n",
    "        \n",
    "        \"dbscan_params\": {\n",
    "            \"eps\": 0.5,\n",
    "            \"min_points\": 1,\n",
    "            \"print_progress\": False,\n",
    "        },\n",
    "    }"
   ]
  },
  {
   "cell_type": "markdown",
   "id": "54a7209e",
   "metadata": {},
   "source": [
    "## Run evaluation on the scans in the segmentations directory"
   ]
  },
  {
   "cell_type": "code",
   "execution_count": null,
   "id": "54f7d279",
   "metadata": {},
   "outputs": [],
   "source": [
    "from evaluate_matterport_scan_region import evaluate_matterport_scan_region_localizations"
   ]
  },
  {
   "cell_type": "code",
   "execution_count": null,
   "id": "5e376c0f",
   "metadata": {},
   "outputs": [],
   "source": [
    "# save the params\n",
    "params_save_path = os.path.join(save_dir, 'params.json')\n",
    "with open(params_save_path, 'w') as f:\n",
    "    json.dump(params, f)\n",
    "\n",
    "\n",
    "# run the evaluation\n",
    "for scan_name in scans:\n",
    "\n",
    "    scan_dir = os.path.join(MATTERPORT_DIR, f\"{scan_name}/{scan_name}\")\n",
    "    lattice_graph_path = os.path.join(LATTICE_GRAPHS_DIR, f\"{scan_name}_lattice_graph.pkl\")\n",
    "    \n",
    "    evaluate_matterport_scan_region_localizations(\n",
    "        params=params,\n",
    "        scan_dir=scan_dir,\n",
    "        openscene_region_segs_dir=OPENSCENE_REGION_SEGS_DIR,\n",
    "        lattice_graph_path=lattice_graph_path,\n",
    "        output_dir=save_dir\n",
    "    )"
   ]
  },
  {
   "cell_type": "code",
   "execution_count": null,
   "id": "6263191c",
   "metadata": {},
   "outputs": [],
   "source": []
  }
 ],
 "metadata": {
  "kernelspec": {
   "display_name": "Python 3 (ipykernel)",
   "language": "python",
   "name": "python3"
  },
  "language_info": {
   "codemirror_mode": {
    "name": "ipython",
    "version": 3
   },
   "file_extension": ".py",
   "mimetype": "text/x-python",
   "name": "python",
   "nbconvert_exporter": "python",
   "pygments_lexer": "ipython3",
   "version": "3.8.10"
  }
 },
 "nbformat": 4,
 "nbformat_minor": 5
}
