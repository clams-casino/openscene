{
 "cells": [
  {
   "cell_type": "code",
   "execution_count": null,
   "id": "616d5caa",
   "metadata": {},
   "outputs": [],
   "source": [
    "import os\n",
    "import json\n",
    "from datetime import datetime"
   ]
  },
  {
   "cell_type": "markdown",
   "id": "dbd835ee",
   "metadata": {},
   "source": [
    "## Define input and output filepaths"
   ]
  },
  {
   "cell_type": "code",
   "execution_count": null,
   "id": "aef87341",
   "metadata": {},
   "outputs": [],
   "source": [
    "MATTERPORT_DIR = \"/media/rsl_admin/T7/matterport/data/v1/scans\"\n",
    "\n",
    "LATTICE_GRAPHS_DIR = \"/media/rsl_admin/T7/matterport/lattice_graphs\""
   ]
  },
  {
   "cell_type": "code",
   "execution_count": null,
   "id": "e5a58990",
   "metadata": {},
   "outputs": [],
   "source": [
    "OPENSCENE_REGION_SEGS_DIR = \\\n",
    "    \"/home/rsl_admin/openscene/comparison_outputs/segmentations/object-openseg-matterport-test\"\n"
   ]
  },
  {
   "cell_type": "code",
   "execution_count": null,
   "id": "82494053",
   "metadata": {},
   "outputs": [],
   "source": [
    "OUTPUT_DIR = \"/home/rsl_admin/openscene/comparison_outputs/eval_outputs\"\n",
    "\n",
    "save_dir = os.path.join(OUTPUT_DIR, f\"object-{datetime.now().strftime('%Y-%m-%d_%H-%M')}\")\n",
    "os.makedirs(save_dir, exist_ok=True)\n",
    "\n",
    "print(f\"saving outputs to: {save_dir}\")"
   ]
  },
  {
   "cell_type": "markdown",
   "id": "510ef621",
   "metadata": {},
   "source": [
    "## Figure out which scans to process"
   ]
  },
  {
   "cell_type": "code",
   "execution_count": null,
   "id": "3af7a1eb",
   "metadata": {},
   "outputs": [],
   "source": [
    "scans = set()\n",
    "for fname in os.listdir(OPENSCENE_REGION_SEGS_DIR):\n",
    "    scans.add(fname.split(\"_\")[0])\n",
    "    \n",
    "scans = tuple(sorted(scans))\n",
    "\n",
    "print(scans)"
   ]
  },
  {
   "cell_type": "markdown",
   "id": "a95e18c6",
   "metadata": {},
   "source": [
    "## Evaluation parameters"
   ]
  },
  {
   "cell_type": "code",
   "execution_count": null,
   "id": "3b37036c",
   "metadata": {},
   "outputs": [],
   "source": [
    "BLACKLISTED_OBJECT_LABELS = (\n",
    "    \"misc\", \"objects\", \"void\", \"unlabeled\",\n",
    "    \"wall\", \"floor\", \"ceiling\", \"other\"\n",
    ")"
   ]
  },
  {
   "cell_type": "code",
   "execution_count": null,
   "id": "d67ba827",
   "metadata": {},
   "outputs": [],
   "source": [
    "params = {\n",
    "        \"label_params\": {\n",
    "            \"blacklisted_labels\": BLACKLISTED_OBJECT_LABELS,\n",
    "        },\n",
    "    \n",
    "        # Make sure sides of proposal boxes are at least this long\n",
    "        \"min_proposal_box_length\": 0.1,\n",
    "    \n",
    "    \n",
    "        # From email with the author of OVIR\n",
    "        \"cluster_min_points\": 50,\n",
    "\n",
    "        # https://github.com/search?q=repo%3Ashiyoung77%2FOVIR-3D%20dbscan&type=code\n",
    "        \"dbscan_params\": {\n",
    "            \"eps\": 0.1,\n",
    "            \"min_points\": 1,\n",
    "            \"print_progress\": False,\n",
    "        },\n",
    "    }"
   ]
  },
  {
   "cell_type": "markdown",
   "id": "39e7af4b",
   "metadata": {},
   "source": [
    "## Run evaluation on the scans in the segmentations directory"
   ]
  },
  {
   "cell_type": "code",
   "execution_count": null,
   "id": "b29fa325",
   "metadata": {},
   "outputs": [],
   "source": [
    "from evaluate_matterport_scan_object import evaluate_matterport_scan_object_localizations"
   ]
  },
  {
   "cell_type": "code",
   "execution_count": null,
   "id": "1694d049",
   "metadata": {},
   "outputs": [],
   "source": [
    "# save the params\n",
    "params_save_path = os.path.join(save_dir, 'params.json')\n",
    "with open(params_save_path, 'w') as f:\n",
    "    json.dump(params, f)\n",
    "\n",
    "\n",
    "# run the evaluation\n",
    "for scan_name in scans:\n",
    "\n",
    "    scan_dir = os.path.join(MATTERPORT_DIR, f\"{scan_name}/{scan_name}\")\n",
    "    lattice_graph_path = os.path.join(LATTICE_GRAPHS_DIR, f\"{scan_name}_lattice_graph.pkl\")\n",
    "    \n",
    "    evaluate_matterport_scan_object_localizations(\n",
    "        params=params,\n",
    "        scan_dir=scan_dir,\n",
    "        openscene_region_segs_dir=OPENSCENE_REGION_SEGS_DIR,\n",
    "        lattice_graph_path=lattice_graph_path,\n",
    "        output_dir=save_dir\n",
    "    )"
   ]
  },
  {
   "cell_type": "code",
   "execution_count": null,
   "id": "aa44801b",
   "metadata": {},
   "outputs": [],
   "source": []
  }
 ],
 "metadata": {
  "kernelspec": {
   "display_name": "Python 3 (ipykernel)",
   "language": "python",
   "name": "python3"
  },
  "language_info": {
   "codemirror_mode": {
    "name": "ipython",
    "version": 3
   },
   "file_extension": ".py",
   "mimetype": "text/x-python",
   "name": "python",
   "nbconvert_exporter": "python",
   "pygments_lexer": "ipython3",
   "version": "3.8.10"
  }
 },
 "nbformat": 4,
 "nbformat_minor": 5
}
