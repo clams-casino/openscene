{
 "cells": [
  {
   "cell_type": "code",
   "execution_count": 1,
   "id": "0ae9dfed-ec6f-4205-9431-5bbeb26a0d41",
   "metadata": {
    "tags": []
   },
   "outputs": [
    {
     "name": "stdout",
     "output_type": "stream",
     "text": [
      "Jupyter environment detected. Enabling Open3D WebVisualizer.\n",
      "[Open3D INFO] WebRTC GUI backend enabled.\n",
      "[Open3D INFO] WebRTCWindowSystem: HTTP handshake server disabled.\n"
     ]
    },
    {
     "name": "stderr",
     "output_type": "stream",
     "text": [
      "/tmp/ipykernel_979480/1176535136.py:12: MatplotlibDeprecationWarning: The get_cmap function was deprecated in Matplotlib 3.7 and will be removed two minor releases later. Use ``matplotlib.colormaps[name]`` or ``matplotlib.colormaps.get_cmap(obj)`` instead.\n",
      "  cmap = cm.get_cmap('jet')\n"
     ]
    }
   ],
   "source": [
    "import os\n",
    "\n",
    "import pickle\n",
    "\n",
    "import numpy as np\n",
    "import torch\n",
    "\n",
    "import open3d as o3d\n",
    "\n",
    "import matplotlib.pyplot as plt\n",
    "import matplotlib.cm as cm\n",
    "cmap = cm.get_cmap('jet')\n",
    "\n",
    "from tqdm.notebook import tqdm"
   ]
  },
  {
   "cell_type": "code",
   "execution_count": 2,
   "id": "35ec1ee5",
   "metadata": {},
   "outputs": [],
   "source": [
    "import ipywidgets as widgets\n",
    "from IPython.display import display"
   ]
  },
  {
   "cell_type": "code",
   "execution_count": 3,
   "id": "a644e430",
   "metadata": {},
   "outputs": [],
   "source": [
    "MATTERPORT_DIR = \"/media/rsl_admin/T7/matterport/data/v1/scans\"\n",
    "\n",
    "SEGMENTATIONS_PATH = \"/home/rsl_admin/openscene/comparison_outputs/segmentations/openseg-matterport-test_21-objects\"\n",
    "# SEGMENTATIONS_PATH = \"/home/rsl_admin/openscene/comparison_outputs/segmentations/openseg-matterport-test_regions\""
   ]
  },
  {
   "cell_type": "markdown",
   "id": "5ec4a8c5",
   "metadata": {},
   "source": [
    "### Get list of scans within this directory"
   ]
  },
  {
   "cell_type": "code",
   "execution_count": 4,
   "id": "413657c8",
   "metadata": {},
   "outputs": [
    {
     "name": "stdout",
     "output_type": "stream",
     "text": [
      "{'yqstnuAEVhm', 'WYY7iVyf5p8', 'wc2JMjhGNzB', 'YFuZgdQ5vWj', 'ARNzJeq3xxb', 'YVUC4YcDtcY', 'q9vSo1VnCiC', 'UwV83HsGsw3', 'gxdoqLR6rwA', 'gYvKGZ5eRqb', 'Vt2qJdWjCF2', '5ZKStnWn8Zo', 'rqfALeAoiTq', '2t7WUuJeko7', 'RPmz2sHmrrY', 'fzynW3qQPVF', 'pa4otMbVnkk', 'jtcxE69GiFV'}\n"
     ]
    }
   ],
   "source": [
    "scan_names = set()\n",
    "for fname in os.listdir(SEGMENTATIONS_PATH):\n",
    "    name = fname.split(\"_\")[0]\n",
    "    if name not in scan_names:\n",
    "        scan_names.add(name)\n",
    "        \n",
    "print(scan_names)"
   ]
  },
  {
   "cell_type": "code",
   "execution_count": 5,
   "id": "3f54310b",
   "metadata": {},
   "outputs": [],
   "source": [
    "# scan_name = np.random.choice(list(scan_names))\n",
    "\n",
    "scan_name = \"2t7WUuJeko7\""
   ]
  },
  {
   "cell_type": "code",
   "execution_count": 6,
   "id": "f3b16594",
   "metadata": {},
   "outputs": [],
   "source": [
    "points = []\n",
    "colors = []\n",
    "preds = []\n",
    "label_to_ind = None\n",
    "\n",
    "for fname in os.listdir(SEGMENTATIONS_PATH):\n",
    "    if scan_name not in fname:\n",
    "        continue\n",
    "        \n",
    "    with open(os.path.join(SEGMENTATIONS_PATH, fname), 'rb') as f:\n",
    "        data = pickle.load(f)\n",
    "        \n",
    "    points.append(data[\"points\"])\n",
    "    colors.append(data[\"colors\"])\n",
    "    preds.append(data[\"preds\"])\n",
    "    \n",
    "    # This assumes that label_to_ind is the same for all regions preds generated\n",
    "    if label_to_ind == None:\n",
    "        label_to_ind = data[\"label_to_ind\"]\n",
    "        \n",
    "\n",
    "points = np.concatenate(points, axis=0)\n",
    "colors = np.concatenate(colors, axis=0)\n",
    "preds = np.concatenate(preds, axis=0)"
   ]
  },
  {
   "cell_type": "code",
   "execution_count": 7,
   "id": "af61128f",
   "metadata": {},
   "outputs": [],
   "source": [
    "pcd = o3d.geometry.PointCloud()\n",
    "pcd.points = o3d.utility.Vector3dVector(points)\n",
    "pcd.colors = o3d.utility.Vector3dVector(colors)"
   ]
  },
  {
   "cell_type": "code",
   "execution_count": 8,
   "id": "e74f3f0c",
   "metadata": {},
   "outputs": [],
   "source": [
    "scan_mesh = o3d.io.read_triangle_mesh(\n",
    "    os.path.join(MATTERPORT_DIR, f\"{scan_name}/{scan_name}/house_segmentations/{scan_name}.ply\")\n",
    ")"
   ]
  },
  {
   "cell_type": "markdown",
   "id": "ccfdc1e9",
   "metadata": {},
   "source": [
    "##\n",
    "Visualize the scan mesh and aggregated points from all section"
   ]
  },
  {
   "cell_type": "code",
   "execution_count": 9,
   "id": "f2a228c0",
   "metadata": {},
   "outputs": [],
   "source": [
    "o3d.visualization.draw_geometries([scan_mesh, pcd])"
   ]
  },
  {
   "cell_type": "markdown",
   "id": "1b034f8e",
   "metadata": {},
   "source": [
    "##\n",
    "Visualize for a selected label the segmentations"
   ]
  },
  {
   "cell_type": "code",
   "execution_count": 10,
   "id": "10374a6f",
   "metadata": {},
   "outputs": [
    {
     "name": "stdout",
     "output_type": "stream",
     "text": [
      "dict_keys(['wall', 'floor', 'cabinet', 'bed', 'chair', 'sofa', 'table', 'door', 'window', 'bookshelf', 'picture', 'counter', 'desk', 'curtain', 'refrigerator', 'shower curtain', 'toilet', 'sink', 'bathtub', 'other', 'ceiling'])\n"
     ]
    }
   ],
   "source": [
    "labels = label_to_ind.keys()\n",
    "\n",
    "print(labels)"
   ]
  },
  {
   "cell_type": "code",
   "execution_count": 11,
   "id": "bc2a47f9",
   "metadata": {},
   "outputs": [
    {
     "data": {
      "application/vnd.jupyter.widget-view+json": {
       "model_id": "ec462934b41b4a6b899bac13a50509bf",
       "version_major": 2,
       "version_minor": 0
      },
      "text/plain": [
       "Dropdown(options=('all', 'bathtub', 'bed', 'bookshelf', 'cabinet', 'ceiling', 'chair', 'counter', 'curtain', '…"
      ]
     },
     "metadata": {},
     "output_type": "display_data"
    }
   ],
   "source": [
    "label_dropdown = widgets.Dropdown(\n",
    "    options=['all'] + sorted(labels),\n",
    "    disabled=False,\n",
    ")\n",
    "\n",
    "display(label_dropdown)"
   ]
  },
  {
   "cell_type": "code",
   "execution_count": 12,
   "id": "24c3a44b",
   "metadata": {},
   "outputs": [],
   "source": [
    "label_inds = np.where(preds == label_to_ind[label_dropdown.value])[0]\n",
    "\n",
    "o3d.visualization.draw_geometries(\n",
    "    [\n",
    "        scan_mesh, \n",
    "        pcd.select_by_index(label_inds).paint_uniform_color((0,1,0))\n",
    "    ]\n",
    ")"
   ]
  },
  {
   "cell_type": "markdown",
   "id": "f818d34e",
   "metadata": {},
   "source": [
    "##\n",
    "## See what the clusters look like"
   ]
  },
  {
   "cell_type": "code",
   "execution_count": 13,
   "id": "2d24dc28",
   "metadata": {},
   "outputs": [
    {
     "name": "stdout",
     "output_type": "stream",
     "text": [
      "{'void', 'unlabeled', 'other room', 'ceiling', 'outdoor', 'floor', 'dining booth', 'wall', 'junk', 'objects', 'misc', 'entryway/foyer/lobby', 'no label'}\n"
     ]
    }
   ],
   "source": [
    "BLACKLISTED_LABELS_OBJECTS = (\n",
    "    \"misc\", \"objects\", \"void\", \"unlabeled\",\n",
    "    \"wall\", \"floor\", \"ceiling\",\n",
    ")\n",
    "\n",
    "BLACKLISTED_LABELS_REGIONS = (\n",
    "    \"other room\", \"junk\", \"no label\",\n",
    "\n",
    "    # no appropriate tag\n",
    "    \"dining booth\",\n",
    "    \"entryway/foyer/lobby\",\n",
    "    \"outdoor\",\n",
    ")\n",
    "\n",
    "BLACKLISTED_LABELS = set(BLACKLISTED_LABELS_OBJECTS).union(BLACKLISTED_LABELS_REGIONS)\n",
    "\n",
    "print(BLACKLISTED_LABELS)"
   ]
  },
  {
   "cell_type": "code",
   "execution_count": 22,
   "id": "d4451751",
   "metadata": {},
   "outputs": [],
   "source": [
    "DBSCAN_PARAMS = {\n",
    "#     \"eps\": 0.1,   # what's used in OVIR paper\n",
    "    \"eps\": 0.2,\n",
    "    \n",
    "#     \"eps\": 0.5,     # for regions\n",
    "    \n",
    "    \"min_points\": 50,\n",
    "}"
   ]
  },
  {
   "cell_type": "code",
   "execution_count": 23,
   "id": "df761267",
   "metadata": {},
   "outputs": [
    {
     "data": {
      "application/vnd.jupyter.widget-view+json": {
       "model_id": "2529ae97a76c45ee92ff4fefa0344a7a",
       "version_major": 2,
       "version_minor": 0
      },
      "text/plain": [
       "  0%|          | 0/21 [00:00<?, ?it/s]"
      ]
     },
     "metadata": {},
     "output_type": "display_data"
    }
   ],
   "source": [
    "label_proposals = {}\n",
    "\n",
    "for label in tqdm(labels):\n",
    "    if label in BLACKLISTED_LABELS:\n",
    "        continue\n",
    "    \n",
    "    \n",
    "    label_points_pcd = o3d.geometry.PointCloud()\n",
    "    label_points_pcd.points = o3d.utility.Vector3dVector(\n",
    "        points[preds == label_to_ind[label]]\n",
    "    )\n",
    "    \n",
    "    \n",
    "    cluster_inds = label_points_pcd.cluster_dbscan(**DBSCAN_PARAMS)\n",
    "    \n",
    "    \n",
    "    label_proposals[label] = {\n",
    "        \"points\": [],\n",
    "        \"boxes\": [],\n",
    "    }\n",
    "    \n",
    "    for i in np.unique(cluster_inds):\n",
    "        if i == -1:\n",
    "            continue\n",
    "        \n",
    "        \n",
    "        cluster_points = label_points_pcd.select_by_index(\n",
    "            np.where(cluster_inds == i)[0]\n",
    "        )\n",
    "        \n",
    "        cluster_box = cluster_points.get_axis_aligned_bounding_box()\n",
    "        \n",
    "        label_proposals[label][\"points\"].append(cluster_points)\n",
    "        label_proposals[label][\"boxes\"].append(cluster_box)\n",
    "        "
   ]
  },
  {
   "cell_type": "code",
   "execution_count": 24,
   "id": "48a374b1",
   "metadata": {},
   "outputs": [
    {
     "data": {
      "application/vnd.jupyter.widget-view+json": {
       "model_id": "6090ca44665f46738f7a93550dd5537c",
       "version_major": 2,
       "version_minor": 0
      },
      "text/plain": [
       "Dropdown(options=('21-cabinet', '6-bed', '23-chair', '4-sofa', '29-table', '13-door', '15-window', '2-bookshel…"
      ]
     },
     "metadata": {},
     "output_type": "display_data"
    }
   ],
   "source": [
    "options = [\n",
    "    f\"{len(lp['boxes'])}-{l}\" for l, lp in label_proposals.items()\n",
    "]\n",
    "\n",
    "label_cluster_dropdown = widgets.Dropdown(\n",
    "    options=options,\n",
    "    disabled=False,\n",
    ")\n",
    "\n",
    "display(label_cluster_dropdown)"
   ]
  },
  {
   "cell_type": "code",
   "execution_count": 26,
   "id": "18654483",
   "metadata": {},
   "outputs": [],
   "source": [
    "selected_label = label_cluster_dropdown.value.split(\"-\")[-1]\n",
    "\n",
    "for pcd, box in zip(\n",
    "    label_proposals[selected_label][\"points\"],\n",
    "    label_proposals[selected_label][\"boxes\"],\n",
    "):\n",
    "    color = np.random.uniform(size=3)\n",
    "    pcd.paint_uniform_color(color)\n",
    "    box.color = color\n",
    "    \n",
    "o3d.visualization.draw_geometries(\n",
    "    [scan_mesh] + \\\n",
    "    label_proposals[selected_label][\"points\"] + \\\n",
    "    label_proposals[selected_label][\"boxes\"]\n",
    ")"
   ]
  },
  {
   "cell_type": "code",
   "execution_count": null,
   "id": "73816eac",
   "metadata": {},
   "outputs": [],
   "source": []
  }
 ],
 "metadata": {
  "kernelspec": {
   "display_name": "Python 3 (ipykernel)",
   "language": "python",
   "name": "python3"
  },
  "language_info": {
   "codemirror_mode": {
    "name": "ipython",
    "version": 3
   },
   "file_extension": ".py",
   "mimetype": "text/x-python",
   "name": "python",
   "nbconvert_exporter": "python",
   "pygments_lexer": "ipython3",
   "version": "3.8.10"
  }
 },
 "nbformat": 4,
 "nbformat_minor": 5
}
