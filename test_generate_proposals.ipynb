{
 "cells": [
  {
   "cell_type": "code",
   "execution_count": 1,
   "id": "0ae9dfed-ec6f-4205-9431-5bbeb26a0d41",
   "metadata": {
    "tags": []
   },
   "outputs": [
    {
     "name": "stdout",
     "output_type": "stream",
     "text": [
      "Jupyter environment detected. Enabling Open3D WebVisualizer.\n",
      "[Open3D INFO] WebRTC GUI backend enabled.\n",
      "[Open3D INFO] WebRTCWindowSystem: HTTP handshake server disabled.\n"
     ]
    },
    {
     "name": "stderr",
     "output_type": "stream",
     "text": [
      "/tmp/ipykernel_208500/1176535136.py:12: MatplotlibDeprecationWarning: The get_cmap function was deprecated in Matplotlib 3.7 and will be removed two minor releases later. Use ``matplotlib.colormaps[name]`` or ``matplotlib.colormaps.get_cmap(obj)`` instead.\n",
      "  cmap = cm.get_cmap('jet')\n"
     ]
    }
   ],
   "source": [
    "import os\n",
    "\n",
    "import pickle\n",
    "\n",
    "import numpy as np\n",
    "import torch\n",
    "\n",
    "import open3d as o3d\n",
    "\n",
    "import matplotlib.pyplot as plt\n",
    "import matplotlib.cm as cm\n",
    "cmap = cm.get_cmap('jet')\n",
    "\n",
    "from tqdm.notebook import tqdm"
   ]
  },
  {
   "cell_type": "code",
   "execution_count": 2,
   "id": "35ec1ee5",
   "metadata": {},
   "outputs": [],
   "source": [
    "import ipywidgets as widgets\n",
    "from IPython.display import display"
   ]
  },
  {
   "cell_type": "code",
   "execution_count": 3,
   "id": "d55b294c",
   "metadata": {},
   "outputs": [],
   "source": [
    "MATTERPORT_DIR = \"/media/rsl_admin/T7/matterport/data/v1/scans\"\n",
    "\n",
    "# SEGMENTATIONS_PATH = \"/home/rsl_admin/openscene/comparison_outputs/segmentations/object-openseg-matterport-test\"\n",
    "SEGMENTATIONS_PATH = \"/home/rsl_admin/openscene/comparison_outputs/segmentations/region-openseg-matterport-test\"\n",
    "\n",
    "# SEGMENTATIONS_PATH = \"/home/rsl_admin/openscene/comparison_outputs/segmentations/object-openseg-matterport-val\"\n",
    "# SEGMENTATIONS_PATH = \"/home/rsl_admin/openscene/comparison_outputs/segmentations/region-openseg-matterport-val\""
   ]
  },
  {
   "cell_type": "markdown",
   "id": "d1605b7c",
   "metadata": {},
   "source": [
    "### Get list of scans within this directory"
   ]
  },
  {
   "cell_type": "code",
   "execution_count": 4,
   "id": "68cab037",
   "metadata": {},
   "outputs": [
    {
     "name": "stdout",
     "output_type": "stream",
     "text": [
      "{'Vt2qJdWjCF2', 'gYvKGZ5eRqb', '5ZKStnWn8Zo', 'wc2JMjhGNzB', 'ARNzJeq3xxb', 'fzynW3qQPVF', 'YVUC4YcDtcY', 'gxdoqLR6rwA', 'yqstnuAEVhm', 'pa4otMbVnkk', 'YFuZgdQ5vWj', 'rqfALeAoiTq', '2t7WUuJeko7', 'UwV83HsGsw3', 'RPmz2sHmrrY', 'WYY7iVyf5p8', 'jtcxE69GiFV', 'q9vSo1VnCiC'}\n"
     ]
    }
   ],
   "source": [
    "scan_names = set()\n",
    "for fname in os.listdir(SEGMENTATIONS_PATH):\n",
    "    name = fname.split(\"_\")[0]\n",
    "    if name not in scan_names:\n",
    "        scan_names.add(name)\n",
    "        \n",
    "print(scan_names)"
   ]
  },
  {
   "cell_type": "code",
   "execution_count": 5,
   "id": "05ea9cfe",
   "metadata": {},
   "outputs": [],
   "source": [
    "# scan_name = np.random.choice(list(scan_names))\n",
    "\n",
    "scan_name = \"2t7WUuJeko7\""
   ]
  },
  {
   "cell_type": "code",
   "execution_count": 6,
   "id": "f94b7b90",
   "metadata": {},
   "outputs": [],
   "source": [
    "points = []\n",
    "colors = []\n",
    "preds = []\n",
    "label_to_ind = None\n",
    "\n",
    "for fname in os.listdir(SEGMENTATIONS_PATH):\n",
    "    if scan_name not in fname:\n",
    "        continue\n",
    "        \n",
    "    with open(os.path.join(SEGMENTATIONS_PATH, fname), 'rb') as f:\n",
    "        data = pickle.load(f)\n",
    "        \n",
    "    points.append(data[\"points\"])\n",
    "    colors.append(data[\"colors\"])\n",
    "    preds.append(data[\"preds\"])\n",
    "    \n",
    "    # This assumes that label_to_ind is the same for all regions preds generated\n",
    "    if label_to_ind == None:\n",
    "        label_to_ind = data[\"label_to_ind\"]\n",
    "        \n",
    "        \n",
    "points = np.concatenate(points, axis=0)\n",
    "colors = np.concatenate(colors, axis=0)\n",
    "preds = np.concatenate(preds, axis=0)"
   ]
  },
  {
   "cell_type": "code",
   "execution_count": 7,
   "id": "ef114b51",
   "metadata": {},
   "outputs": [],
   "source": [
    "pcd = o3d.geometry.PointCloud()\n",
    "pcd.points = o3d.utility.Vector3dVector(points)\n",
    "pcd.colors = o3d.utility.Vector3dVector(colors)"
   ]
  },
  {
   "cell_type": "code",
   "execution_count": 8,
   "id": "f7eaed00",
   "metadata": {},
   "outputs": [],
   "source": [
    "scan_mesh = o3d.io.read_triangle_mesh(\n",
    "    os.path.join(MATTERPORT_DIR, f\"{scan_name}/{scan_name}/house_segmentations/{scan_name}.ply\")\n",
    ")"
   ]
  },
  {
   "cell_type": "markdown",
   "id": "8b57e350",
   "metadata": {},
   "source": [
    "##\n",
    "Visualize the scan mesh and aggregated points from all section"
   ]
  },
  {
   "cell_type": "code",
   "execution_count": 9,
   "id": "1b90b279",
   "metadata": {},
   "outputs": [],
   "source": [
    "o3d.visualization.draw_geometries([scan_mesh, pcd])"
   ]
  },
  {
   "cell_type": "markdown",
   "id": "3cdd9386",
   "metadata": {},
   "source": [
    "##\n",
    "Visualize for a selected label the segmentations"
   ]
  },
  {
   "cell_type": "code",
   "execution_count": 10,
   "id": "5b3dbb4d",
   "metadata": {},
   "outputs": [
    {
     "name": "stdout",
     "output_type": "stream",
     "text": [
      "dict_keys(['bathroom', 'bedroom', 'closet', 'dining room', 'garage', 'hallway', 'library', 'laundryroom/mudroom', 'kitchen', 'living room', 'meetingroom/conferenceroom', 'office', 'porch/terrace/deck/driveway', 'rec/game', 'stairs', 'utilityroom/toolroom', 'tv', 'workout/gym/exercise', 'balcony', 'bar', 'classroom', 'spa/sauna', 'entryway/foyer/lobby', 'outdoor', 'dining booth', 'other room'])\n"
     ]
    }
   ],
   "source": [
    "labels = label_to_ind.keys()\n",
    "\n",
    "print(labels)"
   ]
  },
  {
   "cell_type": "code",
   "execution_count": 11,
   "id": "c65a6fa7",
   "metadata": {},
   "outputs": [
    {
     "data": {
      "application/vnd.jupyter.widget-view+json": {
       "model_id": "de75f5e1ec6c4e49bb5d10098e4c1192",
       "version_major": 2,
       "version_minor": 0
      },
      "text/plain": [
       "Dropdown(options=('all', 'balcony', 'bar', 'bathroom', 'bedroom', 'classroom', 'closet', 'dining booth', 'dini…"
      ]
     },
     "metadata": {},
     "output_type": "display_data"
    }
   ],
   "source": [
    "label_dropdown = widgets.Dropdown(\n",
    "    options=['all'] + sorted(labels),\n",
    "    disabled=False,\n",
    ")\n",
    "\n",
    "display(label_dropdown)"
   ]
  },
  {
   "cell_type": "code",
   "execution_count": 12,
   "id": "e8f9a32d",
   "metadata": {},
   "outputs": [
    {
     "ename": "KeyError",
     "evalue": "'all'",
     "output_type": "error",
     "traceback": [
      "\u001b[0;31m---------------------------------------------------------------------------\u001b[0m",
      "\u001b[0;31mKeyError\u001b[0m                                  Traceback (most recent call last)",
      "Cell \u001b[0;32mIn[12], line 1\u001b[0m\n\u001b[0;32m----> 1\u001b[0m label_inds \u001b[38;5;241m=\u001b[39m np\u001b[38;5;241m.\u001b[39mwhere(preds \u001b[38;5;241m==\u001b[39m \u001b[43mlabel_to_ind\u001b[49m\u001b[43m[\u001b[49m\u001b[43mlabel_dropdown\u001b[49m\u001b[38;5;241;43m.\u001b[39;49m\u001b[43mvalue\u001b[49m\u001b[43m]\u001b[49m)[\u001b[38;5;241m0\u001b[39m]\n\u001b[1;32m      3\u001b[0m o3d\u001b[38;5;241m.\u001b[39mvisualization\u001b[38;5;241m.\u001b[39mdraw_geometries(\n\u001b[1;32m      4\u001b[0m     [\n\u001b[1;32m      5\u001b[0m         scan_mesh, \n\u001b[1;32m      6\u001b[0m         pcd\u001b[38;5;241m.\u001b[39mselect_by_index(label_inds)\u001b[38;5;241m.\u001b[39mpaint_uniform_color((\u001b[38;5;241m0\u001b[39m,\u001b[38;5;241m1\u001b[39m,\u001b[38;5;241m0\u001b[39m))\n\u001b[1;32m      7\u001b[0m     ]\n\u001b[1;32m      8\u001b[0m )\n",
      "\u001b[0;31mKeyError\u001b[0m: 'all'"
     ]
    }
   ],
   "source": [
    "label_inds = np.where(preds == label_to_ind[label_dropdown.value])[0]\n",
    "\n",
    "o3d.visualization.draw_geometries(\n",
    "    [\n",
    "        scan_mesh, \n",
    "        pcd.select_by_index(label_inds).paint_uniform_color((0,1,0))\n",
    "    ]\n",
    ")"
   ]
  },
  {
   "cell_type": "markdown",
   "id": "fa0820a3",
   "metadata": {},
   "source": [
    "##\n",
    "## See what the clusters look like"
   ]
  },
  {
   "cell_type": "code",
   "execution_count": 13,
   "id": "ce4ef45a",
   "metadata": {},
   "outputs": [
    {
     "name": "stdout",
     "output_type": "stream",
     "text": [
      "{'void', 'objects', 'unlabeled', 'ceiling', 'dining booth', 'no label', 'entryway/foyer/lobby', 'other room', 'wall', 'junk', 'floor', 'misc', 'outdoor'}\n"
     ]
    }
   ],
   "source": [
    "BLACKLISTED_LABELS_OBJECTS = (\n",
    "    \"misc\", \"objects\", \"void\", \"unlabeled\",\n",
    "    \"wall\", \"floor\", \"ceiling\",\n",
    ")\n",
    "\n",
    "BLACKLISTED_LABELS_REGIONS = (\n",
    "    \"other room\", \"junk\", \"no label\",\n",
    "\n",
    "    # no appropriate tag\n",
    "    \"dining booth\",\n",
    "    \"entryway/foyer/lobby\",\n",
    "    \"outdoor\",\n",
    ")\n",
    "\n",
    "BLACKLISTED_LABELS = set(BLACKLISTED_LABELS_OBJECTS).union(BLACKLISTED_LABELS_REGIONS)\n",
    "\n",
    "print(BLACKLISTED_LABELS)"
   ]
  },
  {
   "cell_type": "code",
   "execution_count": 34,
   "id": "bc210352",
   "metadata": {},
   "outputs": [],
   "source": [
    "DBSCAN_PARAMS = {\n",
    "#     \"eps\": 0.1,   # what's used in OVIR paper\n",
    "#     \"eps\": 0.2,\n",
    "    \n",
    "    \"eps\": 0.5,     # for regions\n",
    "    \n",
    "    \"min_points\": 1,\n",
    "}"
   ]
  },
  {
   "cell_type": "code",
   "execution_count": 35,
   "id": "387d1c55",
   "metadata": {},
   "outputs": [
    {
     "data": {
      "application/vnd.jupyter.widget-view+json": {
       "model_id": "1b307a902b5f48beb9984d3d878993f1",
       "version_major": 2,
       "version_minor": 0
      },
      "text/plain": [
       "  0%|          | 0/26 [00:00<?, ?it/s]"
      ]
     },
     "metadata": {},
     "output_type": "display_data"
    },
    {
     "name": "stdout",
     "output_type": "stream",
     "text": [
      "\u001b[1;33m[Open3D WARNING] [KDTreeFlann::SetRawData] Failed due to no data.\u001b[0;m\n",
      "\u001b[1;33m[Open3D WARNING] [KDTreeFlann::SetRawData] Failed due to no data.\u001b[0;m\n",
      "\u001b[1;33m[Open3D WARNING] [KDTreeFlann::SetRawData] Failed due to no data.\u001b[0;m\n",
      "\u001b[1;33m[Open3D WARNING] [KDTreeFlann::SetRawData] Failed due to no data.\u001b[0;m\n",
      "\u001b[1;33m[Open3D WARNING] [KDTreeFlann::SetRawData] Failed due to no data.\u001b[0;m\n",
      "\u001b[1;33m[Open3D WARNING] [KDTreeFlann::SetRawData] Failed due to no data.\u001b[0;m\n"
     ]
    }
   ],
   "source": [
    "label_proposals = {}\n",
    "\n",
    "for label in tqdm(labels):\n",
    "    if label in BLACKLISTED_LABELS:\n",
    "        continue\n",
    "    \n",
    "    \n",
    "    label_points_pcd = o3d.geometry.PointCloud()\n",
    "    label_points_pcd.points = o3d.utility.Vector3dVector(\n",
    "        points[preds == label_to_ind[label]]\n",
    "    )\n",
    "    \n",
    "    \n",
    "    cluster_inds = label_points_pcd.cluster_dbscan(**DBSCAN_PARAMS)\n",
    "    \n",
    "    \n",
    "    label_proposals[label] = {\n",
    "        \"points\": [],\n",
    "        \"boxes\": [],\n",
    "    }\n",
    "    \n",
    "    for i in np.unique(cluster_inds):\n",
    "        if i == -1:\n",
    "            continue\n",
    "        \n",
    "        if np.sum(cluster_inds == i) < 50:\n",
    "            continue\n",
    "        \n",
    "        cluster_points = label_points_pcd.select_by_index(\n",
    "            np.where(cluster_inds == i)[0]\n",
    "        )\n",
    "        \n",
    "        cluster_box = cluster_points.get_axis_aligned_bounding_box()\n",
    "        \n",
    "        \n",
    "        label_proposals[label][\"points\"].append(cluster_points)\n",
    "        label_proposals[label][\"boxes\"].append(cluster_box)\n",
    "        "
   ]
  },
  {
   "cell_type": "code",
   "execution_count": 36,
   "id": "a173aba2",
   "metadata": {},
   "outputs": [
    {
     "data": {
      "application/vnd.jupyter.widget-view+json": {
       "model_id": "71cdba9ec927458583d09998a201278f",
       "version_major": 2,
       "version_minor": 0
      },
      "text/plain": [
       "Dropdown(options=('1-bathroom', '4-bedroom', '13-closet', '11-dining room', '0-garage', '0-hallway', '0-librar…"
      ]
     },
     "metadata": {},
     "output_type": "display_data"
    }
   ],
   "source": [
    "options = [\n",
    "    f\"{len(lp['boxes'])}-{l}\" for l, lp in label_proposals.items()\n",
    "]\n",
    "\n",
    "label_cluster_dropdown = widgets.Dropdown(\n",
    "    options=options,\n",
    "    disabled=False,\n",
    ")\n",
    "\n",
    "display(label_cluster_dropdown)"
   ]
  },
  {
   "cell_type": "code",
   "execution_count": 38,
   "id": "492be352",
   "metadata": {},
   "outputs": [],
   "source": [
    "selected_label = label_cluster_dropdown.value.split(\"-\")[-1]\n",
    "\n",
    "for pcd, box in zip(\n",
    "    label_proposals[selected_label][\"points\"],\n",
    "    label_proposals[selected_label][\"boxes\"],\n",
    "):\n",
    "    color = np.random.uniform(size=3)\n",
    "    pcd.paint_uniform_color(color)\n",
    "    box.color = color\n",
    "    \n",
    "o3d.visualization.draw_geometries(\n",
    "    [scan_mesh] + \\\n",
    "    label_proposals[selected_label][\"points\"] + \\\n",
    "    label_proposals[selected_label][\"boxes\"]\n",
    ")"
   ]
  },
  {
   "cell_type": "code",
   "execution_count": null,
   "id": "4bc95d45",
   "metadata": {},
   "outputs": [],
   "source": []
  }
 ],
 "metadata": {
  "kernelspec": {
   "display_name": "Python 3 (ipykernel)",
   "language": "python",
   "name": "python3"
  },
  "language_info": {
   "codemirror_mode": {
    "name": "ipython",
    "version": 3
   },
   "file_extension": ".py",
   "mimetype": "text/x-python",
   "name": "python",
   "nbconvert_exporter": "python",
   "pygments_lexer": "ipython3",
   "version": "3.8.10"
  }
 },
 "nbformat": 4,
 "nbformat_minor": 5
}
