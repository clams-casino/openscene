{
 "cells": [
  {
   "cell_type": "code",
   "execution_count": 1,
   "id": "0ae9dfed-ec6f-4205-9431-5bbeb26a0d41",
   "metadata": {
    "tags": []
   },
   "outputs": [
    {
     "name": "stdout",
     "output_type": "stream",
     "text": [
      "Jupyter environment detected. Enabling Open3D WebVisualizer.\n",
      "[Open3D INFO] WebRTC GUI backend enabled.\n",
      "[Open3D INFO] WebRTCWindowSystem: HTTP handshake server disabled.\n"
     ]
    },
    {
     "name": "stderr",
     "output_type": "stream",
     "text": [
      "/tmp/ipykernel_819564/1176535136.py:12: MatplotlibDeprecationWarning: The get_cmap function was deprecated in Matplotlib 3.7 and will be removed two minor releases later. Use ``matplotlib.colormaps[name]`` or ``matplotlib.colormaps.get_cmap(obj)`` instead.\n",
      "  cmap = cm.get_cmap('jet')\n"
     ]
    }
   ],
   "source": [
    "import os\n",
    "\n",
    "import pickle\n",
    "\n",
    "import numpy as np\n",
    "import torch\n",
    "\n",
    "import open3d as o3d\n",
    "\n",
    "import matplotlib.pyplot as plt\n",
    "import matplotlib.cm as cm\n",
    "cmap = cm.get_cmap('jet')\n",
    "\n",
    "from tqdm.notebook import tqdm"
   ]
  },
  {
   "cell_type": "code",
   "execution_count": 2,
   "id": "35ec1ee5",
   "metadata": {},
   "outputs": [],
   "source": [
    "import ipywidgets as widgets\n",
    "from IPython.display import display"
   ]
  },
  {
   "cell_type": "code",
   "execution_count": 3,
   "id": "e94b8c1d",
   "metadata": {},
   "outputs": [],
   "source": [
    "MATTERPORT_DIR = \"/media/rsl_admin/T7/matterport/data/v1/scans\"\n",
    "\n",
    "SEGMENTATIONS_PATH = \"/home/rsl_admin/openscene/comparison_outputs/segmentations/openseg-matterport-test_21-objects\"\n"
   ]
  },
  {
   "cell_type": "markdown",
   "id": "2f7d613e",
   "metadata": {},
   "source": [
    "### Get list of scans within this directory"
   ]
  },
  {
   "cell_type": "code",
   "execution_count": 4,
   "id": "6e7ea899",
   "metadata": {},
   "outputs": [
    {
     "name": "stdout",
     "output_type": "stream",
     "text": [
      "{'pa4otMbVnkk', 'RPmz2sHmrrY', 'q9vSo1VnCiC', 'yqstnuAEVhm', 'gYvKGZ5eRqb', 'rqfALeAoiTq', 'WYY7iVyf5p8', 'ARNzJeq3xxb', '5ZKStnWn8Zo', 'wc2JMjhGNzB', 'UwV83HsGsw3', 'gxdoqLR6rwA', 'Vt2qJdWjCF2', 'YVUC4YcDtcY', '2t7WUuJeko7', 'YFuZgdQ5vWj', 'jtcxE69GiFV', 'fzynW3qQPVF'}\n"
     ]
    }
   ],
   "source": [
    "scan_names = set()\n",
    "for fname in os.listdir(SEGMENTATIONS_PATH):\n",
    "    name = fname.split(\"_\")[0]\n",
    "    if name not in scan_names:\n",
    "        scan_names.add(name)\n",
    "        \n",
    "print(scan_names)"
   ]
  },
  {
   "cell_type": "code",
   "execution_count": 5,
   "id": "49ac0d25",
   "metadata": {},
   "outputs": [],
   "source": [
    "# scan_name = np.random.choice(list(scan_names))\n",
    "\n",
    "scan_name = \"2t7WUuJeko7\""
   ]
  },
  {
   "cell_type": "code",
   "execution_count": 6,
   "id": "ecd6892a",
   "metadata": {},
   "outputs": [],
   "source": [
    "points = []\n",
    "colors = []\n",
    "preds = []\n",
    "label_to_ind = None\n",
    "\n",
    "for fname in os.listdir(SEGMENTATIONS_PATH):\n",
    "    if scan_name not in fname:\n",
    "        continue\n",
    "        \n",
    "    with open(os.path.join(SEGMENTATIONS_PATH, fname), 'rb') as f:\n",
    "        data = pickle.load(f)\n",
    "        \n",
    "    points.append(data[\"points\"])\n",
    "    colors.append(data[\"colors\"])\n",
    "    preds.append(data[\"preds\"])\n",
    "    \n",
    "    # This assumes that label_to_ind is the same for all regions preds generated\n",
    "    if label_to_ind == None:\n",
    "        label_to_ind = data[\"label_to_ind\"]\n",
    "        \n",
    "\n",
    "points = np.concatenate(points, axis=0)\n",
    "colors = np.concatenate(colors, axis=0)\n",
    "preds = np.concatenate(preds, axis=0)"
   ]
  },
  {
   "cell_type": "code",
   "execution_count": 7,
   "id": "1e37623a",
   "metadata": {},
   "outputs": [],
   "source": [
    "pcd = o3d.geometry.PointCloud()\n",
    "pcd.points = o3d.utility.Vector3dVector(points)\n",
    "pcd.colors = o3d.utility.Vector3dVector(colors)"
   ]
  },
  {
   "cell_type": "code",
   "execution_count": 8,
   "id": "dfa436f7",
   "metadata": {},
   "outputs": [],
   "source": [
    "scan_mesh = o3d.io.read_triangle_mesh(\n",
    "    os.path.join(MATTERPORT_DIR, f\"{scan_name}/{scan_name}/house_segmentations/{scan_name}.ply\")\n",
    ")"
   ]
  },
  {
   "cell_type": "markdown",
   "id": "eeca1db6",
   "metadata": {},
   "source": [
    "##\n",
    "Visualize the scan mesh and aggregated points from all section"
   ]
  },
  {
   "cell_type": "code",
   "execution_count": 9,
   "id": "bb82b8f5",
   "metadata": {},
   "outputs": [],
   "source": [
    "o3d.visualization.draw_geometries([scan_mesh, pcd])"
   ]
  },
  {
   "cell_type": "markdown",
   "id": "d4894a60",
   "metadata": {},
   "source": [
    "##\n",
    "Visualize for a selected label the segmentations"
   ]
  },
  {
   "cell_type": "code",
   "execution_count": 10,
   "id": "c9625071",
   "metadata": {},
   "outputs": [
    {
     "name": "stdout",
     "output_type": "stream",
     "text": [
      "dict_keys(['wall', 'floor', 'cabinet', 'bed', 'chair', 'sofa', 'table', 'door', 'window', 'bookshelf', 'picture', 'counter', 'desk', 'curtain', 'refrigerator', 'shower curtain', 'toilet', 'sink', 'bathtub', 'other', 'ceiling'])\n"
     ]
    }
   ],
   "source": [
    "labels = label_to_ind.keys()\n",
    "\n",
    "print(labels)"
   ]
  },
  {
   "cell_type": "code",
   "execution_count": 11,
   "id": "eb221b5c",
   "metadata": {},
   "outputs": [
    {
     "data": {
      "application/vnd.jupyter.widget-view+json": {
       "model_id": "852244b769c744028316a808e4bde23f",
       "version_major": 2,
       "version_minor": 0
      },
      "text/plain": [
       "Dropdown(options=('all', 'bathtub', 'bed', 'bookshelf', 'cabinet', 'ceiling', 'chair', 'counter', 'curtain', '…"
      ]
     },
     "metadata": {},
     "output_type": "display_data"
    }
   ],
   "source": [
    "label_dropdown = widgets.Dropdown(\n",
    "    options=['all'] + sorted(labels),\n",
    "    disabled=False,\n",
    ")\n",
    "\n",
    "display(label_dropdown)"
   ]
  },
  {
   "cell_type": "code",
   "execution_count": 13,
   "id": "2e08b85d",
   "metadata": {},
   "outputs": [],
   "source": [
    "label_inds = np.where(preds == label_to_ind[label_dropdown.value])[0]\n",
    "\n",
    "o3d.visualization.draw_geometries(\n",
    "    [\n",
    "        scan_mesh, \n",
    "        pcd.select_by_index(label_inds).paint_uniform_color((0,1,0))\n",
    "    ]\n",
    ")"
   ]
  },
  {
   "cell_type": "markdown",
   "id": "328c5548",
   "metadata": {},
   "source": [
    "##\n",
    "## See what the clusters look like"
   ]
  },
  {
   "cell_type": "code",
   "execution_count": 14,
   "id": "b769cbaa",
   "metadata": {},
   "outputs": [],
   "source": [
    "BLACKLISTED_LABELS = (\n",
    "    \"misc\", \"objects\", \"void\", \"unlabeled\",\n",
    "    \"wall\", \"floor\", \"ceiling\",\n",
    ")"
   ]
  },
  {
   "cell_type": "code",
   "execution_count": 57,
   "id": "18017f30",
   "metadata": {},
   "outputs": [],
   "source": [
    "DBSCAN_PARAMS = {\n",
    "#     \"eps\": 0.1,   # what's used in OVIR paper\n",
    "    \"eps\": 0.2,\n",
    "    \n",
    "    \"min_points\": 50,\n",
    "}"
   ]
  },
  {
   "cell_type": "code",
   "execution_count": 69,
   "id": "7687af34",
   "metadata": {},
   "outputs": [
    {
     "data": {
      "application/vnd.jupyter.widget-view+json": {
       "model_id": "72b4a886cb9b411494c2b0dc0a5731d2",
       "version_major": 2,
       "version_minor": 0
      },
      "text/plain": [
       "  0%|          | 0/21 [00:00<?, ?it/s]"
      ]
     },
     "metadata": {},
     "output_type": "display_data"
    }
   ],
   "source": [
    "label_proposals = {}\n",
    "\n",
    "for label in tqdm(labels):\n",
    "    if label in BLACKLISTED_LABELS:\n",
    "        continue\n",
    "    \n",
    "    \n",
    "    label_points_pcd = o3d.geometry.PointCloud()\n",
    "    label_points_pcd.points = o3d.utility.Vector3dVector(\n",
    "        points[preds == label_to_ind[label]]\n",
    "    )\n",
    "    \n",
    "    \n",
    "    cluster_inds = label_points_pcd.cluster_dbscan(**DBSCAN_PARAMS)\n",
    "    \n",
    "    \n",
    "    label_proposals[label] = {\n",
    "        \"points\": [],\n",
    "        \"boxes\": [],\n",
    "    }\n",
    "    \n",
    "    for i in np.unique(cluster_inds):\n",
    "        if i == -1:\n",
    "            continue\n",
    "        \n",
    "        \n",
    "        cluster_points = label_points_pcd.select_by_index(\n",
    "            np.where(cluster_inds == i)[0]\n",
    "        )\n",
    "        \n",
    "        cluster_box = cluster_points.get_axis_aligned_bounding_box()\n",
    "        \n",
    "        label_proposals[label][\"points\"].append(cluster_points)\n",
    "        label_proposals[label][\"boxes\"].append(cluster_box)\n",
    "        \n",
    "    \n",
    "    "
   ]
  },
  {
   "cell_type": "code",
   "execution_count": 70,
   "id": "68332714",
   "metadata": {},
   "outputs": [
    {
     "data": {
      "application/vnd.jupyter.widget-view+json": {
       "model_id": "444dc5453cb74e9e8b55d40c31dd278f",
       "version_major": 2,
       "version_minor": 0
      },
      "text/plain": [
       "Dropdown(options=('bathtub', 'bed', 'bookshelf', 'cabinet', 'chair', 'counter', 'curtain', 'desk', 'door', 'ot…"
      ]
     },
     "metadata": {},
     "output_type": "display_data"
    }
   ],
   "source": [
    "label_cluster_dropdown = widgets.Dropdown(\n",
    "    options=sorted(label_proposals.keys() ),\n",
    "    disabled=False,\n",
    ")\n",
    "\n",
    "display(label_cluster_dropdown)"
   ]
  },
  {
   "cell_type": "code",
   "execution_count": 76,
   "id": "1e3a987f",
   "metadata": {},
   "outputs": [],
   "source": [
    "for pcd, box in zip(\n",
    "    label_proposals[label_cluster_dropdown.value][\"points\"],\n",
    "    label_proposals[label_cluster_dropdown.value][\"boxes\"],\n",
    "):\n",
    "    color = np.random.uniform(size=3)\n",
    "    pcd.paint_uniform_color(color)\n",
    "    box.color = color\n",
    "    \n",
    "o3d.visualization.draw_geometries(\n",
    "    [scan_mesh] + \\\n",
    "    label_proposals[label_cluster_dropdown.value][\"points\"] + \\\n",
    "    label_proposals[label_cluster_dropdown.value][\"boxes\"]\n",
    ")"
   ]
  },
  {
   "cell_type": "code",
   "execution_count": null,
   "id": "0070d751",
   "metadata": {},
   "outputs": [],
   "source": []
  }
 ],
 "metadata": {
  "kernelspec": {
   "display_name": "Python 3 (ipykernel)",
   "language": "python",
   "name": "python3"
  },
  "language_info": {
   "codemirror_mode": {
    "name": "ipython",
    "version": 3
   },
   "file_extension": ".py",
   "mimetype": "text/x-python",
   "name": "python",
   "nbconvert_exporter": "python",
   "pygments_lexer": "ipython3",
   "version": "3.8.10"
  }
 },
 "nbformat": 4,
 "nbformat_minor": 5
}
