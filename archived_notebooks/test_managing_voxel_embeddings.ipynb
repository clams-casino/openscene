{
 "cells": [
  {
   "cell_type": "code",
   "execution_count": 1,
   "id": "442530f5-6a29-4913-a776-7ad261433f43",
   "metadata": {
    "tags": []
   },
   "outputs": [
    {
     "name": "stdout",
     "output_type": "stream",
     "text": [
      "Jupyter environment detected. Enabling Open3D WebVisualizer.\n",
      "[Open3D INFO] WebRTC GUI backend enabled.\n",
      "[Open3D INFO] WebRTCWindowSystem: HTTP handshake server disabled.\n"
     ]
    }
   ],
   "source": [
    "import os\n",
    "import numpy as np\n",
    "\n",
    "import open3d as o3d\n",
    "from plyfile import PlyData, PlyElement\n",
    "\n",
    "import matplotlib.pyplot as plt\n",
    "\n",
    "import MinkowskiEngine as ME"
   ]
  },
  {
   "cell_type": "markdown",
   "id": "17557c54-62e9-40f8-ae33-f9656b609351",
   "metadata": {},
   "source": [
    "## Load the point cloud\n",
    "Use scan from ScanNet for the test"
   ]
  },
  {
   "cell_type": "code",
   "execution_count": 2,
   "id": "269a7353-faed-47fe-9d5a-e1c5659973ba",
   "metadata": {
    "tags": []
   },
   "outputs": [],
   "source": [
    "# scan_ply_filepath = '/home/rsl_admin/openscene/test_pcd/scene0000_00_vh_clean.ply'\n",
    "scan_ply_filepath = '/home/rsl_admin/openscene/test_pcd/scene0000_00_vh_clean_2.ply'  # low res\n",
    "\n",
    "ply_data = PlyData.read(scan_ply_filepath)"
   ]
  },
  {
   "cell_type": "code",
   "execution_count": 3,
   "id": "19e2c76f-3c75-4c84-97bc-f0464fbcf62c",
   "metadata": {
    "tags": []
   },
   "outputs": [],
   "source": [
    "num_points = ply_data['vertex'].count\n",
    "\n",
    "locs_np = np.zeros((num_points,3))\n",
    "locs_np[:,0] = ply_data['vertex']['x']\n",
    "locs_np[:,1] = ply_data['vertex']['y']\n",
    "locs_np[:,2] = ply_data['vertex']['z']\n",
    "\n",
    "colors_np = np.zeros((num_points,3))\n",
    "colors_np[:,0] = ply_data['vertex']['red'] / 255.0\n",
    "colors_np[:,1] = ply_data['vertex']['green'] / 255.0\n",
    "colors_np[:,2] = ply_data['vertex']['blue'] / 255.0"
   ]
  },
  {
   "cell_type": "code",
   "execution_count": 4,
   "id": "1c23d059-f3b0-403c-81c0-d24a12b2b0d6",
   "metadata": {
    "tags": []
   },
   "outputs": [
    {
     "name": "stdout",
     "output_type": "stream",
     "text": [
      "(81369, 3)\n",
      "(81369, 3)\n"
     ]
    }
   ],
   "source": [
    "print(locs_np.shape)\n",
    "print(colors_np.shape)"
   ]
  },
  {
   "cell_type": "code",
   "execution_count": 5,
   "id": "5d656204-fb74-4236-b88c-7e9b19a29d47",
   "metadata": {
    "tags": []
   },
   "outputs": [],
   "source": [
    "# visualizate with open3d\n",
    "pcd = o3d.geometry.PointCloud()\n",
    "pcd.points = o3d.utility.Vector3dVector(locs_np)\n",
    "pcd.colors = o3d.utility.Vector3dVector(colors_np)\n",
    "o3d.visualization.draw_geometries([pcd])"
   ]
  },
  {
   "cell_type": "markdown",
   "id": "262d089f-7f21-4a1a-94e3-ed3cbc3d6e57",
   "metadata": {},
   "source": [
    "## Create two point clouds, with some overlap"
   ]
  },
  {
   "cell_type": "code",
   "execution_count": 6,
   "id": "026e0717-83c6-40d3-8e24-4632fa0bb67f",
   "metadata": {
    "tags": []
   },
   "outputs": [],
   "source": [
    "section_a_xlim = [-float('inf'), 5.0]\n",
    "section_b_xlim = [2.0, float('inf')]\n",
    "\n",
    "section_a_idx = np.logical_and(locs_np[:, 0] > section_a_xlim[0], locs_np[:, 0] < section_a_xlim[1])\n",
    "section_b_idx = np.logical_and(locs_np[:, 0] > section_b_xlim[0], locs_np[:, 0] < section_b_xlim[1])\n",
    "\n",
    "a_locs_np = locs_np[section_a_idx].copy()\n",
    "a_colors_np = colors_np[section_a_idx].copy()\n",
    "\n",
    "b_locs_np = locs_np[section_b_idx].copy()\n",
    "b_colors_np = colors_np[section_b_idx].copy()"
   ]
  },
  {
   "cell_type": "code",
   "execution_count": 7,
   "id": "c0da0c91-b9b1-4f13-843e-40afa28fae10",
   "metadata": {
    "tags": []
   },
   "outputs": [],
   "source": [
    "# section_a_ylim = [-float('inf'), 5.0]\n",
    "# section_b_ylim = [2.0, float('inf')]\n",
    "\n",
    "# section_a_idx = np.logical_and(locs_np[:, 1] > section_a_ylim[0], locs_np[:, 1] < section_a_ylim[1])\n",
    "# section_b_idx = np.logical_and(locs_np[:, 1] > section_b_ylim[0], locs_np[:, 1] < section_b_ylim[1])\n",
    "\n",
    "# a_locs_np = locs_np[section_a_idx].copy()\n",
    "# a_colors_np = colors_np[section_a_idx].copy()\n",
    "\n",
    "# b_locs_np = locs_np[section_b_idx].copy()\n",
    "# b_colors_np = colors_np[section_b_idx].copy()"
   ]
  },
  {
   "cell_type": "code",
   "execution_count": 8,
   "id": "2c15fc59-09cd-49bc-914f-066558f47e88",
   "metadata": {
    "tags": []
   },
   "outputs": [],
   "source": [
    "# visualizate the two point clouds\n",
    "a_pcd = o3d.geometry.PointCloud()\n",
    "a_pcd.points = o3d.utility.Vector3dVector(a_locs_np)\n",
    "a_pcd.colors = o3d.utility.Vector3dVector(a_colors_np)\n",
    "o3d.visualization.draw_geometries([a_pcd])"
   ]
  },
  {
   "cell_type": "code",
   "execution_count": 9,
   "id": "fce7afed-3426-454a-a597-b5d56d871228",
   "metadata": {
    "tags": []
   },
   "outputs": [],
   "source": [
    "b_pcd = o3d.geometry.PointCloud()\n",
    "b_pcd.points = o3d.utility.Vector3dVector(b_locs_np)\n",
    "b_pcd.colors = o3d.utility.Vector3dVector(b_colors_np)\n",
    "o3d.visualization.draw_geometries([b_pcd])"
   ]
  },
  {
   "cell_type": "markdown",
   "id": "231ea0f8-2662-4959-885f-ce424055ef55",
   "metadata": {},
   "source": [
    "## Create voxelized representation for both"
   ]
  },
  {
   "cell_type": "code",
   "execution_count": 10,
   "id": "5ada14ae-c526-4dd6-9648-56eff8e5a8bd",
   "metadata": {
    "tags": []
   },
   "outputs": [],
   "source": [
    "VOXEL_SIZE = 0.02\n",
    "EMBED_SIZE = 768"
   ]
  },
  {
   "cell_type": "markdown",
   "id": "8a178cb0-0c4d-462d-bfb0-2383a75a409a",
   "metadata": {},
   "source": [
    "By voxelized representation I mean coords and embeddings. For embeddings, we can just generated random numbers"
   ]
  },
  {
   "cell_type": "code",
   "execution_count": 11,
   "id": "35470204-7d74-4f24-b0e3-3f423f7101a6",
   "metadata": {
    "tags": []
   },
   "outputs": [],
   "source": [
    "from dataset.voxelization_utils import sparse_quantize"
   ]
  },
  {
   "cell_type": "code",
   "execution_count": 12,
   "id": "bfb3e3b6-330d-4e08-aa2b-e63cff5acd19",
   "metadata": {
    "tags": []
   },
   "outputs": [
    {
     "name": "stdout",
     "output_type": "stream",
     "text": [
      "(49828, 3)\n",
      "(48891, 3)\n",
      "(64509, 3)\n",
      "(63358, 3)\n"
     ]
    }
   ],
   "source": [
    "a_coords = np.floor(a_locs_np / VOXEL_SIZE)\n",
    "a_unique_map, a_inverse_map = sparse_quantize(a_coords, return_index=True)\n",
    "a_unique_coords = a_coords[a_unique_map]\n",
    "\n",
    "# a_unique_embeds = np.random.randn(a_unique_coords.shape[0], EMBED_SIZE).astype(np.float32)\n",
    "\n",
    "b_coords = np.floor(b_locs_np / VOXEL_SIZE)\n",
    "b_unique_map, b_inverse_map = sparse_quantize(b_coords, return_index=True)\n",
    "b_unique_coords = b_coords[b_unique_map]\n",
    "\n",
    "# b_unique_embeds = np.random.randn(b_unique_coords.shape[0], EMBED_SIZE).astype(np.float32)\n",
    "\n",
    "print(a_coords.shape)\n",
    "print(a_unique_coords.shape)\n",
    "\n",
    "print(b_coords.shape)\n",
    "print(b_unique_coords.shape)"
   ]
  },
  {
   "cell_type": "markdown",
   "id": "1530c9ca-55dd-4167-9d5e-b9f5fb709001",
   "metadata": {},
   "source": [
    "After under going sparse quantize both the unique coords should actually be unique, let's verify"
   ]
  },
  {
   "cell_type": "code",
   "execution_count": 13,
   "id": "4ce13ac7-4e92-47ac-8a58-49fe9877bd24",
   "metadata": {
    "tags": []
   },
   "outputs": [],
   "source": [
    "assert np.unique(a_unique_coords, axis=0).shape[0] == a_unique_coords.shape[0]\n",
    "assert np.unique(b_unique_coords, axis=0).shape[0] == b_unique_coords.shape[0]"
   ]
  },
  {
   "cell_type": "markdown",
   "id": "c03f350e-9019-4a57-b41b-ceb876b817b4",
   "metadata": {},
   "source": [
    "### Let's find the overlaps between the two arrays"
   ]
  },
  {
   "cell_type": "markdown",
   "id": "c65af1af-9640-49d7-93ba-27599f34d02b",
   "metadata": {},
   "source": [
    "####\n",
    "ASIDE: using `sparse_quantize` is much faster than calling `np.unqiue` even though `sparse_quantize` internally also calls `np.unique`, think this is due to `sparse_quantize` calling unique on a hashed array of type `uint64`, so it's only doing unique over hash ids instead of XYZ coords"
   ]
  },
  {
   "cell_type": "code",
   "execution_count": 14,
   "id": "74e8b0cb-d385-4405-8621-660f8ae65fc8",
   "metadata": {
    "tags": []
   },
   "outputs": [],
   "source": [
    "# %timeit np.unique(cat_coords.astype(np.float32), axis=0, return_index=True)   # 285 ms\n",
    "# %timeit np.unique(cat_coords.astype(np.int32), axis=0, return_index=True)     # 280 ms\n",
    "# %timeit np.unique(cat_coords.astype(np.int16), axis=0, return_index=True)     # 282 ms\n",
    "\n",
    "# %timeit cat_unique_map, cat_inverse_map = sparse_quantize(cat_coords, return_index=True) # 20ms"
   ]
  },
  {
   "cell_type": "markdown",
   "id": "a22ba144-9b29-475b-94ef-b5cd8641839e",
   "metadata": {
    "tags": []
   },
   "source": [
    "#### \n",
    "instead of relying on `sparse_quantize` let's just copy over the hash function"
   ]
  },
  {
   "cell_type": "code",
   "execution_count": 15,
   "id": "f70615eb-1645-49fc-b2b3-e1b03a042819",
   "metadata": {
    "tags": []
   },
   "outputs": [],
   "source": [
    "def fnv_hash_vec(arr):\n",
    "    '''\n",
    "    FNV64-1A\n",
    "    '''\n",
    "    assert arr.ndim == 2\n",
    "    # Floor first for negative coordinates\n",
    "    arr = arr.copy()\n",
    "    arr = arr.astype(np.uint64, copy=False)\n",
    "    hashed_arr = np.uint64(14695981039346656037) * \\\n",
    "                 np.ones(arr.shape[0], dtype=np.uint64)\n",
    "    for j in range(arr.shape[1]):\n",
    "        hashed_arr *= np.uint64(1099511628211)\n",
    "        hashed_arr = np.bitwise_xor(hashed_arr, arr[:, j])\n",
    "    return hashed_arr"
   ]
  },
  {
   "cell_type": "code",
   "execution_count": 16,
   "id": "59760fdc-8969-47f7-a561-3dad4e7a6eb3",
   "metadata": {
    "tags": []
   },
   "outputs": [],
   "source": [
    "def coords_overlap(a_unique_coords: np.ndarray, b_unique_coords: np.ndarray):\n",
    "    '''\n",
    "    Finds overlap between two sets of voxel coordinates\n",
    "    \n",
    "    The caller is responsible for ensuring that the arguments only contain\n",
    "    unique coords\n",
    "    \n",
    "    Args:\n",
    "        a_unique_coords: (N, 3) voxel coords, assumed to only contain unique coords\n",
    "        b_unique_coords: (M, 3) voxel coords, assumed to only contain unique coords\n",
    "        \n",
    "    Returns:\n",
    "        a_overlap: (N,) boolean array, elements are marked True if overlapping\n",
    "        b_overlap: (M,) boolean array, elements are marked True if overlapping\n",
    "    '''\n",
    "    assert a_coords.ndim == 2 and b_coords.ndim == 2\n",
    "\n",
    "    a_keys = fnv_hash_vec(a_unique_coords)\n",
    "    b_keys = fnv_hash_vec(b_unique_coords)\n",
    "\n",
    "    a_overlap = np.isin(a_keys, b_keys)\n",
    "    b_overlap = np.isin(b_keys, a_keys)\n",
    "    \n",
    "    return a_overlap, b_overlap"
   ]
  },
  {
   "cell_type": "code",
   "execution_count": 17,
   "id": "0cbbfdf1-572f-401c-993c-6695077877c4",
   "metadata": {
    "tags": []
   },
   "outputs": [],
   "source": [
    "# %timeit coords_overlap(a_unique_coords, b_unique_coords)\n",
    "\n",
    "a_overlap_mask, b_overlap_mask = coords_overlap(a_unique_coords, b_unique_coords)"
   ]
  },
  {
   "cell_type": "code",
   "execution_count": 18,
   "id": "015bb778-1d99-4dd7-9009-c82566dc050c",
   "metadata": {
    "tags": []
   },
   "outputs": [],
   "source": [
    "a_overlap_locs_np = a_unique_coords[a_overlap_mask] * VOXEL_SIZE\n",
    "a_nonoverlap_locs = a_unique_coords[~a_overlap_mask] * VOXEL_SIZE\n",
    "\n",
    "b_overlap_locs_np = b_unique_coords[b_overlap_mask] * VOXEL_SIZE\n",
    "b_nonoverlap_locs_np = b_unique_coords[~b_overlap_mask] * VOXEL_SIZE"
   ]
  },
  {
   "cell_type": "code",
   "execution_count": 19,
   "id": "1e2b16c9-3059-4f33-ad0a-ce621e18f1a7",
   "metadata": {
    "tags": []
   },
   "outputs": [],
   "source": [
    "a_overlap_pcd = o3d.geometry.PointCloud()\n",
    "a_overlap_pcd.points = o3d.utility.Vector3dVector(a_overlap_locs_np)\n",
    "o3d.visualization.draw_geometries([a_overlap_pcd])"
   ]
  },
  {
   "cell_type": "code",
   "execution_count": 20,
   "id": "d5c3024c-456f-4d76-8976-a10b1ddca450",
   "metadata": {
    "tags": []
   },
   "outputs": [],
   "source": [
    "b_overlap_pcd = o3d.geometry.PointCloud()\n",
    "b_overlap_pcd.points = o3d.utility.Vector3dVector(b_overlap_locs_np)\n",
    "o3d.visualization.draw_geometries([b_overlap_pcd])"
   ]
  },
  {
   "cell_type": "code",
   "execution_count": 21,
   "id": "33b1cd1b-fc80-41df-9d97-8b595e68bad1",
   "metadata": {
    "tags": []
   },
   "outputs": [],
   "source": [
    "a_nonoverlap_pcd = o3d.geometry.PointCloud()\n",
    "a_nonoverlap_pcd.points = o3d.utility.Vector3dVector(a_nonoverlap_locs)\n",
    "o3d.visualization.draw_geometries([a_nonoverlap_pcd])"
   ]
  },
  {
   "cell_type": "code",
   "execution_count": 22,
   "id": "0c80e9ee-5735-4110-a8c3-14d7e791198d",
   "metadata": {
    "tags": []
   },
   "outputs": [],
   "source": [
    "b_nonoverlap_pcd = o3d.geometry.PointCloud()\n",
    "b_nonoverlap_pcd.points = o3d.utility.Vector3dVector(b_nonoverlap_locs_np)\n",
    "o3d.visualization.draw_geometries([b_nonoverlap_pcd])"
   ]
  },
  {
   "cell_type": "code",
   "execution_count": null,
   "id": "8fadf2b3-6b02-451b-a09e-918006e23ae1",
   "metadata": {},
   "outputs": [],
   "source": []
  },
  {
   "cell_type": "markdown",
   "id": "085e9fa8-8038-44b3-b9d9-ab2681fea60c",
   "metadata": {},
   "source": [
    "### Converting voxel size"
   ]
  },
  {
   "cell_type": "code",
   "execution_count": 32,
   "id": "582b7438-7e11-44f4-9bdc-ad31c640f3d8",
   "metadata": {
    "tags": []
   },
   "outputs": [],
   "source": [
    "def convert_voxel_size(coords, old_voxel_size, new_voxel_size, mode='take-one'):\n",
    "    new_coords = np.floor(coords * old_voxel_size / new_voxel_size)\n",
    "    new_keys = fnv_hash_vec(new_coords)\n",
    "\n",
    "    unique_keys, inds = np.unique(new_keys, return_index=True)\n",
    "    \n",
    "    new_feat = np.zeros((len(unique_keys), 100))\n",
    "    for key in unique_keys:\n",
    "        inds = np.where(new_keys == key)[0]\n",
    "        # print(inds)\n",
    "    "
   ]
  },
  {
   "cell_type": "code",
   "execution_count": 33,
   "id": "efac3833-62d1-4423-a363-1fbaf905da03",
   "metadata": {
    "tags": []
   },
   "outputs": [
    {
     "name": "stdout",
     "output_type": "stream",
     "text": [
      "355 ms ± 3.28 ms per loop (mean ± std. dev. of 7 runs, 1 loop each)\n"
     ]
    }
   ],
   "source": [
    "%timeit convert_voxel_size(a_unique_coords, VOXEL_SIZE, 0.05)"
   ]
  },
  {
   "cell_type": "code",
   "execution_count": null,
   "id": "5be8c220-0b57-4257-a2bf-57e1520e6bcf",
   "metadata": {},
   "outputs": [],
   "source": []
  }
 ],
 "metadata": {
  "kernelspec": {
   "display_name": "Python 3 (ipykernel)",
   "language": "python",
   "name": "python3"
  },
  "language_info": {
   "codemirror_mode": {
    "name": "ipython",
    "version": 3
   },
   "file_extension": ".py",
   "mimetype": "text/x-python",
   "name": "python",
   "nbconvert_exporter": "python",
   "pygments_lexer": "ipython3",
   "version": "3.8.10"
  }
 },
 "nbformat": 4,
 "nbformat_minor": 5
}
