{
 "cells": [
  {
   "cell_type": "code",
   "execution_count": 83,
   "id": "0ae9dfed-ec6f-4205-9431-5bbeb26a0d41",
   "metadata": {
    "tags": []
   },
   "outputs": [
    {
     "name": "stderr",
     "output_type": "stream",
     "text": [
      "/tmp/ipykernel_521827/4112534512.py:9: MatplotlibDeprecationWarning: The get_cmap function was deprecated in Matplotlib 3.7 and will be removed two minor releases later. Use ``matplotlib.colormaps[name]`` or ``matplotlib.colormaps.get_cmap(obj)`` instead.\n",
      "  cmap = cm.get_cmap('jet')\n"
     ]
    }
   ],
   "source": [
    "import os\n",
    "import numpy as np\n",
    "import torch\n",
    "\n",
    "import open3d as o3d\n",
    "\n",
    "import matplotlib.pyplot as plt\n",
    "import matplotlib.cm as cm\n",
    "cmap = cm.get_cmap('jet')\n",
    "\n",
    "from tqdm import tqdm"
   ]
  },
  {
   "cell_type": "code",
   "execution_count": 2,
   "id": "6004cfd6",
   "metadata": {},
   "outputs": [],
   "source": [
    "MATTERPORT_DIR = \"/media/rsl_admin/T7/matterport/data/v1/scans\"\n",
    "\n",
    "FUSED_FEATURES_DIR = \"/media/rsl_admin/T7/openscene_fused_features/matterport_multiview_openseg_test\""
   ]
  },
  {
   "cell_type": "code",
   "execution_count": 3,
   "id": "5aef85d1",
   "metadata": {},
   "outputs": [],
   "source": [
    "if 'openseg' in FUSED_FEATURES_DIR:\n",
    "    embedding_space = 'openseg'\n",
    "elif 'lseg' in FUSED_FEATURES_DIR:\n",
    "    embedding_space = 'lseg'\n",
    "else:\n",
    "    raise NotImplementedError"
   ]
  },
  {
   "cell_type": "markdown",
   "id": "4ae18406",
   "metadata": {},
   "source": [
    "##\n",
    "Define a function which reads the preprocessed 3D data and fused features stored as separate regions and combines them into a single arrays for the scan"
   ]
  },
  {
   "cell_type": "code",
   "execution_count": 90,
   "id": "d993be15",
   "metadata": {},
   "outputs": [],
   "source": [
    "import re"
   ]
  },
  {
   "cell_type": "code",
   "execution_count": 167,
   "id": "06fbeb68",
   "metadata": {},
   "outputs": [],
   "source": [
    "def combine_scan_regions(scan_name, data_3d_dir, fused_feat_dir):\n",
    "    scan_points = []\n",
    "    scan_colors = []\n",
    "    scan_fused_feats = []\n",
    "    \n",
    "    data_3d_filenames = [fname for fname in os.listdir(data_3d_dir) if scan_name in fname]\n",
    "    \n",
    "    for fname in data_3d_filenames:\n",
    "\n",
    "        match = re.search(\n",
    "            r'_region(\\d+)\\.pth', \n",
    "            fname\n",
    "        )\n",
    "        if match:\n",
    "            region_number = match.group(1)\n",
    "        else:\n",
    "            raise RuntimeError(f\"No region number for file {fname}\")\n",
    "            \n",
    "        fused_feat_fname = f\"{scan_name}_region{region_number}_0.pt\"\n",
    "        \n",
    "        data_fused_feat = torch.load(\n",
    "            os.path.join(fused_feat_dir, fused_feat_fname)\n",
    "        )\n",
    "        \n",
    "        data_3d = torch.load(\n",
    "            os.path.join(data_3d_dir, fname)\n",
    "        )\n",
    "        \n",
    "        points = data_3d[0]\n",
    "        colors = data_3d[1]\n",
    "        \n",
    "        # Check dimensions are the same with mask full and the number of points!!!\n",
    "        assert points.shape[0] == data_fused_feat[\"mask_full\"].shape[0]\n",
    "        \n",
    "        scan_points.append(\n",
    "            points[data_fused_feat[\"mask_full\"]]\n",
    "        )\n",
    "        scan_colors.append(\n",
    "            colors[data_fused_feat[\"mask_full\"]]\n",
    "        )\n",
    "        scan_fused_feats.append(\n",
    "            data_fused_feat[\"feat\"]\n",
    "        )\n",
    "        \n",
    "    scan_points = np.concatenate(scan_points, axis=0)\n",
    "    scan_colors = np.concatenate(scan_colors, axis=0)\n",
    "    scan_fused_feats = np.concatenate(scan_fused_feats, axis=0)\n",
    "    \n",
    "    return scan_points, scan_colors, scan_fused_feats\n"
   ]
  },
  {
   "cell_type": "code",
   "execution_count": 168,
   "id": "822dd82c",
   "metadata": {},
   "outputs": [],
   "source": [
    "scan_points, scan_colors, scan_fused_feats = combine_scan_regions(\n",
    "    \"2t7WUuJeko7\",\n",
    "    \"/home/rsl_admin/openscene/openscene/data/matterport_3d/test\",\n",
    "    \"/media/rsl_admin/T7/openscene_fused_features/matterport_multiview_openseg_test\"\n",
    ")"
   ]
  },
  {
   "cell_type": "markdown",
   "id": "6acd371b-67f3-4c41-850a-d40ed5d9deb9",
   "metadata": {},
   "source": [
    "## Load the scan mesh for visualization"
   ]
  },
  {
   "cell_type": "code",
   "execution_count": 169,
   "id": "ad043616-b963-4e1e-a742-6c52cbba78b4",
   "metadata": {
    "tags": []
   },
   "outputs": [],
   "source": [
    "scan_ply_filepath = f\"/media/rsl_admin/T7/matterport/data/v1/scans/{scan_name}/{scan_name}/house_segmentations/{scan_name}.ply\"\n",
    "\n",
    "mesh_ply = o3d.io.read_triangle_mesh(scan_ply_filepath)"
   ]
  },
  {
   "cell_type": "code",
   "execution_count": 170,
   "id": "dac68b7b",
   "metadata": {},
   "outputs": [],
   "source": [
    "pcd = o3d.geometry.PointCloud()\n",
    "pcd.points = o3d.utility.Vector3dVector(scan_points)\n",
    "pcd.colors = o3d.utility.Vector3dVector(scan_colors)"
   ]
  },
  {
   "cell_type": "code",
   "execution_count": 171,
   "id": "5cb5f1e1-93f8-488a-a4c6-9db3e8dddace",
   "metadata": {
    "tags": []
   },
   "outputs": [],
   "source": [
    "o3d.visualization.draw_geometries([mesh_ply, pcd])"
   ]
  },
  {
   "cell_type": "markdown",
   "id": "fa780a48",
   "metadata": {},
   "source": [
    "## Load CLIP text encoder model"
   ]
  },
  {
   "cell_type": "code",
   "execution_count": 114,
   "id": "0412d0fb",
   "metadata": {},
   "outputs": [],
   "source": [
    "import clip\n",
    "\n",
    "if embedding_space == 'openseg':\n",
    "    clip_model = 'ViT-L/14@336px'\n",
    "elif embedding_space == 'lseg':\n",
    "    clip_model = 'ViT-B/32'\n",
    "    \n",
    "clip_pretrained, _ = clip.load(clip_model, device='cuda', jit=False)"
   ]
  },
  {
   "cell_type": "code",
   "execution_count": 115,
   "id": "b801b8a8",
   "metadata": {},
   "outputs": [],
   "source": [
    "def compute_text_embedding(query_string, encoder):\n",
    "    with torch.no_grad():\n",
    "        text = clip.tokenize([query_string]).to('cuda')\n",
    "        text_embedding = encoder.encode_text(text)\n",
    "        text_embedding /= text_embedding.norm(dim=-1, keepdim=True)\n",
    "    return text_embedding.cpu().numpy().astype(np.float32)"
   ]
  },
  {
   "cell_type": "code",
   "execution_count": 116,
   "id": "8f24347c",
   "metadata": {},
   "outputs": [],
   "source": [
    "def compute_point_scores(query_string, voxel_embeddings):\n",
    "    query_embedding = compute_text_embedding(query_string, clip_pretrained)\n",
    "    \n",
    "    # compute the similarity first for each voxel\n",
    "    similarity = voxel_embeddings @ query_embedding.T\n",
    "    \n",
    "    return (similarity - similarity.min()) / (similarity.max() - similarity.min())"
   ]
  },
  {
   "cell_type": "code",
   "execution_count": 124,
   "id": "29ff68af",
   "metadata": {},
   "outputs": [],
   "source": [
    "scores = compute_point_scores(\n",
    "    \"a fireplace\", \n",
    "    scan_fused_feats)\n",
    "\n",
    "query_pcd = o3d.geometry.PointCloud()\n",
    "query_pcd.points = o3d.utility.Vector3dVector(scan_points)\n",
    "query_pcd.colors = o3d.utility.Vector3dVector(cmap(scores).reshape(-1,4)[:,:-1])\n",
    "o3d.visualization.draw_geometries([query_pcd])"
   ]
  },
  {
   "cell_type": "code",
   "execution_count": null,
   "id": "6b678135",
   "metadata": {},
   "outputs": [],
   "source": []
  }
 ],
 "metadata": {
  "kernelspec": {
   "display_name": "Python 3 (ipykernel)",
   "language": "python",
   "name": "python3"
  },
  "language_info": {
   "codemirror_mode": {
    "name": "ipython",
    "version": 3
   },
   "file_extension": ".py",
   "mimetype": "text/x-python",
   "name": "python",
   "nbconvert_exporter": "python",
   "pygments_lexer": "ipython3",
   "version": "3.8.10"
  }
 },
 "nbformat": 4,
 "nbformat_minor": 5
}
