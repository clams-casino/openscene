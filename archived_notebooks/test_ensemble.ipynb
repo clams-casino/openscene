{
 "cells": [
  {
   "cell_type": "code",
   "execution_count": 1,
   "id": "0ae9dfed-ec6f-4205-9431-5bbeb26a0d41",
   "metadata": {
    "tags": []
   },
   "outputs": [
    {
     "name": "stdout",
     "output_type": "stream",
     "text": [
      "Jupyter environment detected. Enabling Open3D WebVisualizer.\n",
      "[Open3D INFO] WebRTC GUI backend enabled.\n",
      "[Open3D INFO] WebRTCWindowSystem: HTTP handshake server disabled.\n"
     ]
    },
    {
     "name": "stderr",
     "output_type": "stream",
     "text": [
      "/tmp/ipykernel_592608/4112534512.py:9: MatplotlibDeprecationWarning: The get_cmap function was deprecated in Matplotlib 3.7 and will be removed two minor releases later. Use ``matplotlib.colormaps[name]`` or ``matplotlib.colormaps.get_cmap(obj)`` instead.\n",
      "  cmap = cm.get_cmap('jet')\n"
     ]
    }
   ],
   "source": [
    "import os\n",
    "import numpy as np\n",
    "import torch\n",
    "\n",
    "import open3d as o3d\n",
    "\n",
    "import matplotlib.pyplot as plt\n",
    "import matplotlib.cm as cm\n",
    "cmap = cm.get_cmap('jet')\n",
    "\n",
    "from tqdm import tqdm"
   ]
  },
  {
   "cell_type": "code",
   "execution_count": 2,
   "id": "6004cfd6",
   "metadata": {},
   "outputs": [],
   "source": [
    "MATTERPORT_DIR = \"/media/rsl_admin/T7/matterport/data/v1/scans\"\n",
    "\n",
    "FUSED_FEATURES_DIR = \"/media/rsl_admin/T7/openscene_fused_features/matterport_multiview_openseg_test\""
   ]
  },
  {
   "cell_type": "code",
   "execution_count": 3,
   "id": "5aef85d1",
   "metadata": {},
   "outputs": [],
   "source": [
    "if 'openseg' in FUSED_FEATURES_DIR:\n",
    "    embedding_space = 'openseg'\n",
    "elif 'lseg' in FUSED_FEATURES_DIR:\n",
    "    embedding_space = 'lseg'\n",
    "else:\n",
    "    raise NotImplementedError"
   ]
  },
  {
   "cell_type": "code",
   "execution_count": 4,
   "id": "41497e21",
   "metadata": {},
   "outputs": [],
   "source": [
    "scan_name = \"2t7WUuJeko7\""
   ]
  },
  {
   "cell_type": "markdown",
   "id": "ff066691",
   "metadata": {},
   "source": [
    "## Setup 3D model"
   ]
  },
  {
   "cell_type": "code",
   "execution_count": 5,
   "id": "0e0e277e",
   "metadata": {},
   "outputs": [],
   "source": [
    "'''simple config class to recreate what's done in the openscene code'''\n",
    "class ModelConfig:\n",
    "    def __init__(self, feature_2d_extractor, arch_3d):\n",
    "        self.feature_2d_extractor = feature_2d_extractor\n",
    "        self.arch_3d = arch_3d"
   ]
  },
  {
   "cell_type": "code",
   "execution_count": 6,
   "id": "f6f6f3ff",
   "metadata": {},
   "outputs": [],
   "source": [
    "checkpoint_path = \"/home/rsl_admin/openscene/checkpoints/matterport_openseg.pth\"\n",
    "# checkpoint_path = \"/home/rsl_admin/openscene/checkpoints/scannet_openseg.pth\"\n",
    "\n",
    "checkpoint = torch.load(checkpoint_path, map_location=lambda storage, loc: storage.cuda())"
   ]
  },
  {
   "cell_type": "code",
   "execution_count": 7,
   "id": "676dc1c8",
   "metadata": {},
   "outputs": [],
   "source": [
    "from run.distill import get_model\n",
    "\n",
    "model_cfg = ModelConfig(\n",
    "    feature_2d_extractor=embedding_space, \n",
    "    arch_3d='MinkUNet18A',\n",
    ")\n",
    "model = get_model(model_cfg)\n",
    "model.load_state_dict(checkpoint['state_dict'], strict=True)\n",
    "\n",
    "model = model.cuda()"
   ]
  },
  {
   "cell_type": "code",
   "execution_count": 8,
   "id": "42b32b1f",
   "metadata": {},
   "outputs": [],
   "source": [
    "from comparison_utils import DisNetRunner"
   ]
  },
  {
   "cell_type": "code",
   "execution_count": 9,
   "id": "1db90985",
   "metadata": {},
   "outputs": [],
   "source": [
    "disnet_runner = DisNetRunner(model)"
   ]
  },
  {
   "cell_type": "markdown",
   "id": "1dca13bc",
   "metadata": {},
   "source": [
    "## Process a scan from its regions"
   ]
  },
  {
   "cell_type": "code",
   "execution_count": 10,
   "id": "b88ccebb",
   "metadata": {},
   "outputs": [],
   "source": [
    "import re"
   ]
  },
  {
   "cell_type": "code",
   "execution_count": 11,
   "id": "c407ac5d",
   "metadata": {},
   "outputs": [],
   "source": [
    "def process_scan_regions(scan_name, data_3d_dir, fused_feat_dir, disnet_runner):\n",
    "    scan_points = []\n",
    "    scan_colors = []\n",
    "    scan_fused_feats = []\n",
    "    scan_distill_feats = []\n",
    "    \n",
    "    \n",
    "    data_3d_filenames = [fname for fname in os.listdir(data_3d_dir) if scan_name in fname]\n",
    "    fused_feat_filenames = []\n",
    "    for fname in data_3d_filenames:\n",
    "        match = re.search(\n",
    "            r'_region(\\d+)\\.pth', \n",
    "            fname\n",
    "        )\n",
    "        if match:\n",
    "            region_number = match.group(1)\n",
    "        else:\n",
    "            raise RuntimeError(f\"No region number for pre-processed 3D data file {fname}\")\n",
    "        \n",
    "        fused_feat_fname = f\"{scan_name}_region{region_number}_0.pt\"\n",
    "        if not os.path.isfile(\n",
    "            os.path.join(fused_feat_dir, fused_feat_fname)\n",
    "        ):\n",
    "            raise RuntimeError(f\"{fused_feat_fname} doesn't exist\")\n",
    "            \n",
    "        fused_feat_filenames.append(fused_feat_fname)\n",
    "    \n",
    "    \n",
    "    for data_3d_fname, fused_feat_fname in zip(data_3d_filenames, fused_feat_filenames):\n",
    "\n",
    "        data_fused_feat = torch.load(os.path.join(fused_feat_dir, fused_feat_fname))\n",
    "        \n",
    "        data_3d = torch.load(os.path.join(data_3d_dir, data_3d_fname))\n",
    "        \n",
    "        points, colors, _ = data_3d\n",
    "        \n",
    "        # Check dimensions are the same with mask full and the number of points!!!\n",
    "        assert points.shape[0] == data_fused_feat[\"mask_full\"].shape[0]\n",
    "        \n",
    "        scan_points.append(\n",
    "            points[data_fused_feat[\"mask_full\"]]\n",
    "        )\n",
    "        scan_colors.append(\n",
    "            colors[data_fused_feat[\"mask_full\"]]\n",
    "        )\n",
    "        scan_fused_feats.append(\n",
    "            # make sure fused features are normalized\n",
    "            data_fused_feat[\"feat\"] / (\n",
    "                np.linalg.norm(data_fused_feat[\"feat\"], axis=1, keepdims=True) + 1e-5\n",
    "            )\n",
    "        )\n",
    "        \n",
    "        scan_distill_feats.append(\n",
    "            disnet_runner.run(points[data_fused_feat[\"mask_full\"]])\n",
    "        )\n",
    "\n",
    "    \n",
    "    return {\n",
    "        \"points\": np.concatenate(scan_points, axis=0),\n",
    "        \"colors\": np.concatenate(scan_colors, axis=0),\n",
    "        \"fused_feats\": np.concatenate(scan_fused_feats, axis=0).astype(np.float16),\n",
    "        \"distill_feats\": np.concatenate(scan_distill_feats, axis=0).astype(np.float16),\n",
    "    }\n"
   ]
  },
  {
   "cell_type": "code",
   "execution_count": 12,
   "id": "e5e54796",
   "metadata": {},
   "outputs": [],
   "source": [
    "scan_points_feats = process_scan_regions(\n",
    "    scan_name,\n",
    "    \"/home/rsl_admin/openscene/openscene/data/matterport_3d/test\",\n",
    "    \"/media/rsl_admin/T7/openscene_fused_features/matterport_multiview_openseg_test\",\n",
    "    disnet_runner\n",
    ")"
   ]
  },
  {
   "cell_type": "markdown",
   "id": "6acd371b-67f3-4c41-850a-d40ed5d9deb9",
   "metadata": {},
   "source": [
    "## Load the scan mesh for visualization"
   ]
  },
  {
   "cell_type": "code",
   "execution_count": 13,
   "id": "ad043616-b963-4e1e-a742-6c52cbba78b4",
   "metadata": {
    "tags": []
   },
   "outputs": [],
   "source": [
    "scan_ply_filepath = f\"/media/rsl_admin/T7/matterport/data/v1/scans/{scan_name}/{scan_name}/house_segmentations/{scan_name}.ply\"\n",
    "\n",
    "mesh_ply = o3d.io.read_triangle_mesh(scan_ply_filepath)"
   ]
  },
  {
   "cell_type": "code",
   "execution_count": 14,
   "id": "bbf820ee",
   "metadata": {},
   "outputs": [],
   "source": [
    "pcd = o3d.geometry.PointCloud()\n",
    "pcd.points = o3d.utility.Vector3dVector(scan_points_feats[\"points\"])\n",
    "pcd.colors = o3d.utility.Vector3dVector(scan_points_feats[\"colors\"])"
   ]
  },
  {
   "cell_type": "code",
   "execution_count": 15,
   "id": "5cb5f1e1-93f8-488a-a4c6-9db3e8dddace",
   "metadata": {
    "tags": []
   },
   "outputs": [],
   "source": [
    "o3d.visualization.draw_geometries([mesh_ply, pcd])"
   ]
  },
  {
   "cell_type": "markdown",
   "id": "efd87396",
   "metadata": {},
   "source": [
    "## Get Segmentions"
   ]
  },
  {
   "cell_type": "markdown",
   "id": "0f30026a",
   "metadata": {},
   "source": [
    "Segment using the method done in Openscene\n",
    "\n",
    "Assume we are given a set of classes to segment out, we query all points with all class text embeddings, and take the max similarity to assign a label to the points"
   ]
  },
  {
   "cell_type": "markdown",
   "id": "2a7f0d31",
   "metadata": {},
   "source": [
    "### Set up class vocabulary"
   ]
  },
  {
   "cell_type": "code",
   "execution_count": 16,
   "id": "0af500dd",
   "metadata": {},
   "outputs": [],
   "source": [
    "from dataset.label_constants import MATTERPORT_LABELS_21"
   ]
  },
  {
   "cell_type": "code",
   "execution_count": 17,
   "id": "3d8738f6",
   "metadata": {},
   "outputs": [],
   "source": [
    "labelset = list(MATTERPORT_LABELS_21)"
   ]
  },
  {
   "cell_type": "code",
   "execution_count": 19,
   "id": "1f84b126",
   "metadata": {},
   "outputs": [],
   "source": [
    "from util.util import extract_clip_feature\n",
    "\n",
    "\n",
    "# Modified from original implementation in Openscene\n",
    "def extract_text_feature(\n",
    "    labelset, \n",
    "    prompt_eng=True,\n",
    "    feature_2d_extractor='openseg',\n",
    "    dataset='matterport_3d'\n",
    "):\n",
    "    '''extract CLIP text features.'''\n",
    "\n",
    "    # a bit of prompt engineering\n",
    "    if prompt_eng:\n",
    "        print('Use prompt engineering: a XX in a scene')\n",
    "        labelset = [ \"a \" + label + \" in a scene\" for label in labelset]\n",
    "        \n",
    "        if dataset == 'scannet_3d':\n",
    "            labelset[-1] = 'other'\n",
    "        if dataset == 'matterport_3d':\n",
    "            labelset[-2] = 'other'\n",
    "            \n",
    "    if 'lseg' in feature_2d_extractor:\n",
    "        text_features = extract_clip_feature(labelset)\n",
    "    elif 'openseg' in feature_2d_extractor:\n",
    "        text_features = extract_clip_feature(labelset, model_name=\"ViT-L/14@336px\")\n",
    "    else:\n",
    "        raise NotImplementedError\n",
    "\n",
    "    return text_features.cpu().numpy().astype(np.float16)"
   ]
  },
  {
   "cell_type": "code",
   "execution_count": 20,
   "id": "b924855d",
   "metadata": {},
   "outputs": [
    {
     "name": "stdout",
     "output_type": "stream",
     "text": [
      "Use prompt engineering: a XX in a scene\n",
      "Loading CLIP ViT-L/14@336px model...\n",
      "Finish loading\n"
     ]
    }
   ],
   "source": [
    "label_feats = extract_text_feature(labelset)"
   ]
  },
  {
   "cell_type": "code",
   "execution_count": 21,
   "id": "0fdae085",
   "metadata": {},
   "outputs": [
    {
     "name": "stdout",
     "output_type": "stream",
     "text": [
      "(21, 768)\n"
     ]
    }
   ],
   "source": [
    "print(label_feats.shape)"
   ]
  },
  {
   "cell_type": "code",
   "execution_count": 27,
   "id": "712bd969",
   "metadata": {},
   "outputs": [],
   "source": [
    "def compute_predictions(\n",
    "    label_feats,\n",
    "    fused_feats,\n",
    "    distill_feats,\n",
    "    method='fusion',\n",
    "):\n",
    "    label_feats = torch.Tensor(label_feats).cuda()\n",
    "    fused_feats = torch.Tensor(fused_feats).cuda()\n",
    "    distill_feats = torch.Tensor(distill_feats).cuda()\n",
    "    \n",
    "    if method == 'fusion':\n",
    "        sim = fused_feats @ label_feats.T\n",
    "        \n",
    "        print(sim.shape)\n",
    "        \n",
    "        \n",
    "        \n",
    "    elif method == 'distill':\n",
    "        raise NotImplementedError\n",
    "        \n",
    "    elif method == 'ensemble':\n",
    "        raise NotImplementedError\n",
    "        \n",
    "    \n",
    "    "
   ]
  },
  {
   "cell_type": "code",
   "execution_count": 28,
   "id": "47883ab0",
   "metadata": {},
   "outputs": [
    {
     "name": "stdout",
     "output_type": "stream",
     "text": [
      "torch.Size([840678, 21])\n"
     ]
    }
   ],
   "source": [
    "compute_predictions(\n",
    "    label_feats,\n",
    "    scan_points_feats[\"fused_feats\"],\n",
    "    scan_points_feats[\"distill_feats\"],\n",
    "    method=\"fusion\"\n",
    ")"
   ]
  },
  {
   "cell_type": "code",
   "execution_count": null,
   "id": "edf60b16",
   "metadata": {},
   "outputs": [],
   "source": []
  },
  {
   "cell_type": "code",
   "execution_count": null,
   "id": "72a45595",
   "metadata": {},
   "outputs": [],
   "source": []
  },
  {
   "cell_type": "code",
   "execution_count": null,
   "id": "97945f5f",
   "metadata": {},
   "outputs": [],
   "source": []
  },
  {
   "cell_type": "code",
   "execution_count": null,
   "id": "9ea2a676",
   "metadata": {},
   "outputs": [],
   "source": []
  },
  {
   "cell_type": "code",
   "execution_count": null,
   "id": "a52369aa",
   "metadata": {},
   "outputs": [],
   "source": []
  },
  {
   "cell_type": "code",
   "execution_count": null,
   "id": "d89d8563",
   "metadata": {},
   "outputs": [],
   "source": []
  },
  {
   "cell_type": "code",
   "execution_count": 19,
   "id": "21b5f020",
   "metadata": {},
   "outputs": [],
   "source": [
    "# def embed_string(string, encoder):\n",
    "#     with torch.no_grad():\n",
    "#         text = clip.tokenize([string]).to('cuda')\n",
    "#         text_embedding = encoder.encode_text(text)\n",
    "#         text_embedding /= text_embedding.norm(dim=-1, keepdim=True)\n",
    "#     return text_embedding.cpu().numpy().astype(np.float32)"
   ]
  },
  {
   "cell_type": "code",
   "execution_count": 20,
   "id": "fd958f21",
   "metadata": {},
   "outputs": [],
   "source": [
    "# def compute_similarity(\n",
    "#     query_string, \n",
    "#     fused_feat, \n",
    "#     distill_feat,\n",
    "#     method=\"fusion\"\n",
    "# ):\n",
    "#     query_embedding = embed_string(query_string, clip_pretrained)\n",
    "    \n",
    "#     if method == \"fusion\":\n",
    "#         similarity = fused_feat @ query_embedding.T\n",
    "        \n",
    "#     elif method == \"distill\":\n",
    "#         similarity = distill_feat @ query_embedding.T\n",
    "        \n",
    "#     elif method == \"ensemble\":\n",
    "#         sim_fusion = fused_feat @ query_embedding.T\n",
    "#         sim_distill = distill_feat @ query_embedding.T\n",
    "        \n",
    "#         similarity = sim_distill\n",
    "#         use_fusion = sim_fusion > sim_distill\n",
    "        \n",
    "#         print(use_fusion.shape)\n",
    "        \n",
    "#         similarity[use_fusion] = sim_fusion[use_fusion]\n",
    "#     else:\n",
    "#         raise Exception(f\"unknown method {method}\")\n",
    "    \n",
    "#     return similarity"
   ]
  },
  {
   "cell_type": "code",
   "execution_count": 22,
   "id": "3b8b343c",
   "metadata": {},
   "outputs": [
    {
     "name": "stdout",
     "output_type": "stream",
     "text": [
      "(840678, 1)\n"
     ]
    }
   ],
   "source": [
    "# scores = compute_similarity(\n",
    "#     \"a bed in a scene\", \n",
    "#     scan_points_feats[\"fused_feats\"],\n",
    "#     scan_points_feats[\"distill_feats\"],\n",
    "# #     method=\"fusion\"\n",
    "# #     method=\"distill\"\n",
    "#     method=\"ensemble\"\n",
    "# )\n",
    "\n",
    "# # under_thresh = scores < 0.2\n",
    "# # scores[under_thresh] = 0.0\n",
    "\n",
    "# query_pcd = o3d.geometry.PointCloud()\n",
    "# query_pcd.points = o3d.utility.Vector3dVector(scan_points_feats[\"points\"])\n",
    "# query_pcd.colors = o3d.utility.Vector3dVector(cmap(scores).reshape(-1,4)[:,:-1])\n",
    "# o3d.visualization.draw_geometries([query_pcd])"
   ]
  },
  {
   "cell_type": "code",
   "execution_count": null,
   "id": "97d201eb",
   "metadata": {},
   "outputs": [],
   "source": []
  }
 ],
 "metadata": {
  "kernelspec": {
   "display_name": "Python 3 (ipykernel)",
   "language": "python",
   "name": "python3"
  },
  "language_info": {
   "codemirror_mode": {
    "name": "ipython",
    "version": 3
   },
   "file_extension": ".py",
   "mimetype": "text/x-python",
   "name": "python",
   "nbconvert_exporter": "python",
   "pygments_lexer": "ipython3",
   "version": "3.8.10"
  }
 },
 "nbformat": 4,
 "nbformat_minor": 5
}
