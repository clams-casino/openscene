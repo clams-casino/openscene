{
 "cells": [
  {
   "cell_type": "code",
   "execution_count": 9,
   "id": "0ae9dfed-ec6f-4205-9431-5bbeb26a0d41",
   "metadata": {
    "tags": []
   },
   "outputs": [],
   "source": [
    "import os\n",
    "import numpy as np"
   ]
  },
  {
   "cell_type": "code",
   "execution_count": 2,
   "id": "b22c4c95",
   "metadata": {},
   "outputs": [],
   "source": [
    "import ipywidgets as widgets\n",
    "from IPython.display import display"
   ]
  },
  {
   "cell_type": "code",
   "execution_count": 3,
   "id": "a2d49a89",
   "metadata": {},
   "outputs": [],
   "source": [
    "TRAIN_FOLDER = \"/home/rsl_admin/openscene/openscene/data/matterport_3d/train\"\n",
    "\n",
    "VAL_FOLDER = \"/home/rsl_admin/openscene/openscene/data/matterport_3d/val\"\n",
    "\n",
    "TEST_FOLDER = \"/home/rsl_admin/openscene/openscene/data/matterport_3d/test\"\n"
   ]
  },
  {
   "cell_type": "code",
   "execution_count": 11,
   "id": "606594e2",
   "metadata": {},
   "outputs": [],
   "source": [
    "def unique_scan_names(dirname):\n",
    "    scan_names = set()\n",
    "    for fname in os.listdir(dirname):\n",
    "        scan_names.add(fname.split('_')[0])\n",
    "        \n",
    "    return tuple(scan_names)"
   ]
  },
  {
   "cell_type": "code",
   "execution_count": 12,
   "id": "a5e51822",
   "metadata": {},
   "outputs": [],
   "source": [
    "scans_train = unique_scan_names(TRAIN_FOLDER)\n",
    "scans_val = unique_scan_names(VAL_FOLDER)\n",
    "scans_test = unique_scan_names(TEST_FOLDER)"
   ]
  },
  {
   "cell_type": "code",
   "execution_count": 13,
   "id": "85410ff5",
   "metadata": {},
   "outputs": [
    {
     "name": "stdout",
     "output_type": "stream",
     "text": [
      "num train: 61\n",
      "num val: 11\n",
      "num test: 18\n"
     ]
    }
   ],
   "source": [
    "print(f\"num train: {len(scans_train)}\")\n",
    "print(f\"num val: {len(scans_val)}\")\n",
    "print(f\"num test: {len(scans_test)}\")"
   ]
  },
  {
   "cell_type": "code",
   "execution_count": 17,
   "id": "a7c05f55",
   "metadata": {},
   "outputs": [
    {
     "name": "stdout",
     "output_type": "stream",
     "text": [
      "scan train: 759xd9YjKW5\n",
      "scan val: TbHJrupSAjP\n",
      "scan test: yqstnuAEVhm\n"
     ]
    }
   ],
   "source": [
    "print(f\"scan train: {np.random.choice(scans_train)}\")\n",
    "print(f\"scan val: {np.random.choice(scans_val)}\")\n",
    "print(f\"scan test: {np.random.choice(scans_test)}\")"
   ]
  },
  {
   "cell_type": "code",
   "execution_count": null,
   "id": "fa86f977",
   "metadata": {},
   "outputs": [],
   "source": []
  }
 ],
 "metadata": {
  "kernelspec": {
   "display_name": "Python 3 (ipykernel)",
   "language": "python",
   "name": "python3"
  },
  "language_info": {
   "codemirror_mode": {
    "name": "ipython",
    "version": 3
   },
   "file_extension": ".py",
   "mimetype": "text/x-python",
   "name": "python",
   "nbconvert_exporter": "python",
   "pygments_lexer": "ipython3",
   "version": "3.8.10"
  }
 },
 "nbformat": 4,
 "nbformat_minor": 5
}
